{
 "cells": [
  {
   "cell_type": "code",
   "execution_count": 1,
   "metadata": {},
   "outputs": [],
   "source": [
    "import torch\n",
    "import torch.nn as nn\n",
    "import torch.nn.functional as F\n",
    "from torch.utils.data import Dataset\n",
    "\n",
    "from torchvision import models\n",
    "from torchvision import transforms\n",
    "\n",
    "import os\n",
    "import time\n",
    "\n",
    "import pandas as pd\n",
    "from PIL import Image"
   ]
  },
  {
   "cell_type": "code",
   "execution_count": 2,
   "metadata": {},
   "outputs": [
    {
     "name": "stdout",
     "output_type": "stream",
     "text": [
      "cpu\n"
     ]
    }
   ],
   "source": [
    "device = torch.device(\"cuda:0\" if torch.cuda.is_available() else \"cpu\")\n",
    "print(device)"
   ]
  },
  {
   "cell_type": "code",
   "execution_count": 3,
   "metadata": {},
   "outputs": [],
   "source": [
    "class Dictionary(object):\n",
    "    def __init__(self):\n",
    "        self.idx2word = []\n",
    "        self.word2idx = {}\n",
    "        \n",
    "    def add_word(self, word):\n",
    "        if word not in self.idx2word:\n",
    "            self.idx2word.append(word)\n",
    "            self.word2idx[word] = len(self.idx2word) - 1\n",
    "        return self.word2idx[word]\n",
    "    \n",
    "    def __len__(self):\n",
    "        return len(self.idx2word)\n",
    "\n",
    "class Corpus(Dataset):\n",
    "    def __init__(self, caption_path, bsz = 32, transform = None):\n",
    "        self.caption_path = caption_path\n",
    "        \n",
    "        self.dictionary = Dictionary()\n",
    "        self.captions = self.tokenize()\n",
    "        self.keys = list(self.captions)\n",
    "        self.bsz = bsz\n",
    "        self.num_batches = self.__len__() // self.bsz\n",
    "        \n",
    "    def tokenize(self):\n",
    "        captions_csv = pd.read_csv(os.path.join(self.caption_path, 'cleaned_captions.csv'))\n",
    "        \n",
    "        for i in range(len(captions_csv)):\n",
    "            line = captions_csv.iloc[i, 1]\n",
    "            words = ['<start>'] + line.lower().split() + ['<eos>']\n",
    "            for word in words:\n",
    "                self.dictionary.add_word(word)\n",
    "                \n",
    "        path2cap = {}\n",
    "        for i in range(len(captions_csv)):\n",
    "            line = captions_csv.iloc[i, 1]\n",
    "            words = ['<start>'] + line.lower().split() + ['<eos>']\n",
    "            ids = []\n",
    "            for word in words:\n",
    "                ids.append(self.dictionary.word2idx[word])\n",
    "            path2cap[captions_csv.iloc[i, 0]] = ids\n",
    "        \n",
    "        return path2cap\n",
    "\n",
    "    def __len__(self):\n",
    "        return len(self.captions)\n",
    "    \n",
    "    def __getitem__(self, idx):\n",
    "        transform = transforms.ToTensor()\n",
    "        normalize = transforms.Normalize([0.485, 0.456, 0.406], [0.229, 0.224, 0.225])\n",
    "        \n",
    "        img_paths = self.keys[idx*self.bsz : (idx+1) * self.bsz]\n",
    "        batch_captions = []\n",
    "        for path in img_paths:\n",
    "            batch_captions.append(torch.Tensor(self.captions[path]).type(torch.LongTensor))\n",
    "        \n",
    "        img_tensor = torch.zeros(0, 3, 224, 224)\n",
    "        for path in img_paths:\n",
    "            img = Image.open(os.path.join(os.path.join(self.caption_path, 'Flickr8k_Dataset'), path))\n",
    "            img = img.resize((224, 224))\n",
    "            img = transform(img)\n",
    "            img = normalize(img)\n",
    "            img.unsqueeze_(0)\n",
    "            \n",
    "            img_tensor = torch.cat((img_tensor, img), 0)\n",
    "            \n",
    "        return batch_captions, img_tensor \n",
    " \n",
    "\n",
    "\n",
    "\n",
    "\n"
   ]
  },
  {
   "cell_type": "code",
   "execution_count": 4,
   "metadata": {},
   "outputs": [],
   "source": [
    "corpus = Corpus('../data')"
   ]
  },
  {
   "cell_type": "code",
   "execution_count": 5,
   "metadata": {},
   "outputs": [],
   "source": [
    "class RNN(nn.Module):\n",
    "    def __init__(self, ntokens, ninp, nhid, dropout = 0.5):\n",
    "        super(RNN, self).__init__()\n",
    "        \n",
    "        self.ntokens = ntokens\n",
    "        self.nhid = nhid\n",
    "        \n",
    "        self.drop = nn.Dropout(dropout)\n",
    "        \n",
    "        self.encode = nn.Embedding(ntokens, ninp)\n",
    "        self.rnn = nn.RNN(ninp, nhid)\n",
    "        self.decode = nn.Linear(nhid, ntokens)\n",
    "        \n",
    "    def forward(self, input, h):\n",
    "        emb = self.drop(self.encode(input))\n",
    "        emb.unsqueeze_(1)\n",
    "        output, hidden = self.rnn(emb, h)\n",
    "        decoded = self.decode(output)\n",
    "        decoded = decoded.view(-1, self.ntokens)\n",
    "        \n",
    "        return F.log_softmax(decoded, dim = 1), hidden\n",
    "    \n",
    "    def init_hidden(self):\n",
    "        return torch.zeros(1, 1, self.nhid)"
   ]
  },
  {
   "cell_type": "code",
   "execution_count": 6,
   "metadata": {},
   "outputs": [],
   "source": [
    "batch_size = 32\n",
    "epochs = 20\n",
    "ntokens = len(corpus.dictionary)\n",
    "criterion = nn.NLLLoss()"
   ]
  },
  {
   "cell_type": "code",
   "execution_count": 7,
   "metadata": {},
   "outputs": [],
   "source": [
    "def repackage_hidden(h):\n",
    "    if isinstance(h, torch.Tensor):\n",
    "        return h.detach()\n",
    "    else:\n",
    "        return repackage_hidden(h)"
   ]
  },
  {
   "cell_type": "code",
   "execution_count": 8,
   "metadata": {},
   "outputs": [],
   "source": [
    "cnn = models.vgg11(pretrained = True).to(device)"
   ]
  },
  {
   "cell_type": "code",
   "execution_count": 9,
   "metadata": {},
   "outputs": [],
   "source": [
    "rnn = RNN(ntokens, 200, 1000).to(device)\n",
    "optimizer = torch.optim.RMSprop(rnn.parameters(), lr = 0.005)"
   ]
  },
  {
   "cell_type": "code",
   "execution_count": 10,
   "metadata": {},
   "outputs": [],
   "source": [
    "def train():\n",
    "    cnn.eval()\n",
    "    rnn.train()\n",
    "    average_loss = 0.\n",
    "    start_time = time.time()\n",
    "    ntokens = len(corpus.dictionary)\n",
    "    \n",
    "    hidden = rnn.init_hidden()\n",
    "    \n",
    "    for i in range(corpus.num_batches):\n",
    "        captions, imgs = corpus[i]\n",
    "        loss = 0\n",
    "        for batch in range(batch_size):\n",
    "            caption = captions[batch]\n",
    "            \n",
    "            optimizer.zero_grad()\n",
    "            hidden = repackage_hidden(hidden)\n",
    "            \n",
    "            img = imgs[batch]\n",
    "            img.unsqueeze_(0)\n",
    "            \n",
    "            cnn_output = cnn(img)\n",
    "            \n",
    "            # Bias interaction between CNN and RNN\n",
    "            cnn_output.squeeze_(0)\n",
    "            tmp = cnn_output.detach().numpy()\n",
    "            \n",
    "            bhi = rnn.rnn.bias_ih_l0.detach().numpy()\n",
    "            bhi[:] = tmp\n",
    "            \n",
    "            output, hidden = rnn(caption, hidden)\n",
    "            \n",
    "            l = criterion(output, caption)\n",
    "            loss += l\n",
    "            \n",
    "        \n",
    "        loss.backward()\n",
    "        optimizer.step()\n",
    "        \n",
    "        average_loss = loss / batch_size\n",
    "        if i % 50 == 0 and i > 0:\n",
    "            elapsed = time.time() - start_time\n",
    "            print('| epoch {} | {}/{} batches | s/batch {} | loss {} |'.format(epoch, i, corpus.num_batches, elapsed / 50, average_loss))\n",
    "            start_time = time.time()"
   ]
  },
  {
   "cell_type": "code",
   "execution_count": 11,
   "metadata": {},
   "outputs": [
    {
     "name": "stdout",
     "output_type": "stream",
     "text": [
      "-----------------------------------------------------------------------------------------\n",
      "Exiting from training early\n"
     ]
    }
   ],
   "source": [
    "try:\n",
    "    for epoch in range(20):\n",
    "        train()\n",
    "    print('-'*89)\n",
    "    print('Training complete')\n",
    "except KeyboardInterrupt:\n",
    "    print('-'*89)\n",
    "    print('Exiting from training early')"
   ]
  },
  {
   "cell_type": "code",
   "execution_count": null,
   "metadata": {},
   "outputs": [],
   "source": []
  }
 ],
 "metadata": {
  "kernelspec": {
   "display_name": "Python 3",
   "language": "python",
   "name": "python3"
  },
  "language_info": {
   "codemirror_mode": {
    "name": "ipython",
    "version": 3
   },
   "file_extension": ".py",
   "mimetype": "text/x-python",
   "name": "python",
   "nbconvert_exporter": "python",
   "pygments_lexer": "ipython3",
   "version": "3.7.7"
  }
 },
 "nbformat": 4,
 "nbformat_minor": 4
}
