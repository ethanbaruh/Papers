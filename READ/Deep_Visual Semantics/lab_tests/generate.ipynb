{
 "cells": [
  {
   "cell_type": "code",
   "execution_count": 1,
   "metadata": {},
   "outputs": [],
   "source": [
    "import torch\n",
    "import torch.nn as nn\n",
    "import torch.nn.functional as F\n",
    "from torch.utils.data import Dataset\n",
    "\n",
    "from torchvision import models\n",
    "from torchvision import transforms\n",
    "\n",
    "import os\n",
    "import time\n",
    "\n",
    "import pandas as pd\n",
    "from PIL import Image"
   ]
  },
  {
   "cell_type": "code",
   "execution_count": 2,
   "metadata": {},
   "outputs": [
    {
     "name": "stdout",
     "output_type": "stream",
     "text": [
      "cpu\n"
     ]
    }
   ],
   "source": [
    "device = torch.device(\"cuda:0\" if torch.cuda.is_available() else \"cpu\")\n",
    "print(device)"
   ]
  },
  {
   "cell_type": "code",
   "execution_count": 3,
   "metadata": {},
   "outputs": [],
   "source": [
    "class Dictionary(object):\n",
    "    def __init__(self):\n",
    "        self.idx2word = []\n",
    "        self.word2idx = {}\n",
    "        \n",
    "    def add_word(self, word):\n",
    "        if word not in self.idx2word:\n",
    "            self.idx2word.append(word)\n",
    "            self.word2idx[word] = len(self.idx2word) - 1\n",
    "        return self.word2idx[word]\n",
    "    \n",
    "    def __len__(self):\n",
    "        return len(self.idx2word)\n",
    "\n",
    "class Corpus(Dataset):\n",
    "    def __init__(self, caption_path, bsz = 32, transform = None):\n",
    "        self.caption_path = caption_path\n",
    "        \n",
    "        self.dictionary = Dictionary()\n",
    "        self.captions = self.tokenize()\n",
    "        self.keys = list(self.captions)\n",
    "        self.bsz = bsz\n",
    "        self.num_batches = self.__len__() // self.bsz\n",
    "        \n",
    "    def tokenize(self):\n",
    "        captions_csv = pd.read_csv(os.path.join(self.caption_path, 'cleaned_captions.csv'))\n",
    "        \n",
    "        for i in range(len(captions_csv)):\n",
    "            line = captions_csv.iloc[i, 1]\n",
    "            words = ['<start>'] + line.lower().split() + ['<eos>']\n",
    "            for word in words:\n",
    "                self.dictionary.add_word(word)\n",
    "                \n",
    "        path2cap = {}\n",
    "        for i in range(len(captions_csv)):\n",
    "            line = captions_csv.iloc[i, 1]\n",
    "            words = ['<start>'] + line.lower().split() + ['<eos>']\n",
    "            ids = []\n",
    "            for word in words:\n",
    "                ids.append(self.dictionary.word2idx[word])\n",
    "            path2cap[captions_csv.iloc[i, 0]] = ids\n",
    "        \n",
    "        return path2cap\n",
    "\n",
    "    def __len__(self):\n",
    "        return len(self.captions)\n",
    "    \n",
    "    def __getitem__(self, idx):\n",
    "        transform = transforms.ToTensor()\n",
    "        normalize = transforms.Normalize([0.485, 0.456, 0.406], [0.229, 0.224, 0.225])\n",
    "        \n",
    "        img_paths = self.keys[idx*self.bsz : (idx+1) * self.bsz]\n",
    "        batch_captions = []\n",
    "        for path in img_paths:\n",
    "            batch_captions.append(torch.Tensor(self.captions[path]).type(torch.LongTensor))\n",
    "        \n",
    "        img_tensor = torch.zeros(0, 3, 224, 224)\n",
    "        for path in img_paths:\n",
    "            img = Image.open(os.path.join(os.path.join(self.caption_path, 'Flickr8k_Dataset'), path))\n",
    "            img = img.resize((224, 224))\n",
    "            img = transform(img)\n",
    "            img = normalize(img)\n",
    "            img.unsqueeze_(0)\n",
    "            \n",
    "            img_tensor = torch.cat((img_tensor, img), 0)\n",
    "            \n",
    "        return batch_captions, img_tensor \n",
    " \n",
    "\n",
    "\n",
    "\n",
    "\n"
   ]
  },
  {
   "cell_type": "code",
   "execution_count": 4,
   "metadata": {},
   "outputs": [],
   "source": [
    "corpus = Corpus('../data')"
   ]
  },
  {
   "cell_type": "code",
   "execution_count": 5,
   "metadata": {},
   "outputs": [],
   "source": [
    "class RNN(nn.Module):\n",
    "    def __init__(self, ntokens, ninp, nhid, dropout = 0.5):\n",
    "        super(RNN, self).__init__()\n",
    "        \n",
    "        self.ntokens = ntokens\n",
    "        self.nhid = nhid\n",
    "        \n",
    "        self.drop = nn.Dropout(dropout)\n",
    "        \n",
    "        self.encode = nn.Embedding(ntokens, ninp)\n",
    "        self.rnn = nn.RNN(ninp, nhid)\n",
    "        self.decode = nn.Linear(nhid, ntokens)\n",
    "        \n",
    "    def forward(self, input, h):\n",
    "        emb = self.drop(self.encode(input))\n",
    "        emb.unsqueeze_(1)\n",
    "        output, hidden = self.rnn(emb, h)\n",
    "        decoded = self.decode(output)\n",
    "        decoded = decoded.view(-1, self.ntokens)\n",
    "        \n",
    "        return F.log_softmax(decoded, dim = 1), hidden\n",
    "    \n",
    "    def init_hidden(self):\n",
    "        return torch.zeros(1, 1, self.nhid)"
   ]
  },
  {
   "cell_type": "code",
   "execution_count": 6,
   "metadata": {},
   "outputs": [],
   "source": [
    "cnn = models.vgg11(pretrained = True).to(device)"
   ]
  },
  {
   "cell_type": "code",
   "execution_count": 7,
   "metadata": {},
   "outputs": [],
   "source": [
    "rnn = RNN(len(corpus.dictionary), 200, 1000).to(device)"
   ]
  },
  {
   "cell_type": "code",
   "execution_count": 8,
   "metadata": {},
   "outputs": [
    {
     "data": {
      "text/plain": [
       "<All keys matched successfully>"
      ]
     },
     "execution_count": 8,
     "metadata": {},
     "output_type": "execute_result"
    }
   ],
   "source": [
    "rnn.load_state_dict(torch.load('../multimodal.pt', map_location = torch.device('cpu')))"
   ]
  },
  {
   "cell_type": "code",
   "execution_count": 9,
   "metadata": {},
   "outputs": [
    {
     "data": {
      "text/plain": [
       "VGG(\n",
       "  (features): Sequential(\n",
       "    (0): Conv2d(3, 64, kernel_size=(3, 3), stride=(1, 1), padding=(1, 1))\n",
       "    (1): ReLU(inplace=True)\n",
       "    (2): MaxPool2d(kernel_size=2, stride=2, padding=0, dilation=1, ceil_mode=False)\n",
       "    (3): Conv2d(64, 128, kernel_size=(3, 3), stride=(1, 1), padding=(1, 1))\n",
       "    (4): ReLU(inplace=True)\n",
       "    (5): MaxPool2d(kernel_size=2, stride=2, padding=0, dilation=1, ceil_mode=False)\n",
       "    (6): Conv2d(128, 256, kernel_size=(3, 3), stride=(1, 1), padding=(1, 1))\n",
       "    (7): ReLU(inplace=True)\n",
       "    (8): Conv2d(256, 256, kernel_size=(3, 3), stride=(1, 1), padding=(1, 1))\n",
       "    (9): ReLU(inplace=True)\n",
       "    (10): MaxPool2d(kernel_size=2, stride=2, padding=0, dilation=1, ceil_mode=False)\n",
       "    (11): Conv2d(256, 512, kernel_size=(3, 3), stride=(1, 1), padding=(1, 1))\n",
       "    (12): ReLU(inplace=True)\n",
       "    (13): Conv2d(512, 512, kernel_size=(3, 3), stride=(1, 1), padding=(1, 1))\n",
       "    (14): ReLU(inplace=True)\n",
       "    (15): MaxPool2d(kernel_size=2, stride=2, padding=0, dilation=1, ceil_mode=False)\n",
       "    (16): Conv2d(512, 512, kernel_size=(3, 3), stride=(1, 1), padding=(1, 1))\n",
       "    (17): ReLU(inplace=True)\n",
       "    (18): Conv2d(512, 512, kernel_size=(3, 3), stride=(1, 1), padding=(1, 1))\n",
       "    (19): ReLU(inplace=True)\n",
       "    (20): MaxPool2d(kernel_size=2, stride=2, padding=0, dilation=1, ceil_mode=False)\n",
       "  )\n",
       "  (avgpool): AdaptiveAvgPool2d(output_size=(7, 7))\n",
       "  (classifier): Sequential(\n",
       "    (0): Linear(in_features=25088, out_features=4096, bias=True)\n",
       "    (1): ReLU(inplace=True)\n",
       "    (2): Dropout(p=0.5, inplace=False)\n",
       "    (3): Linear(in_features=4096, out_features=4096, bias=True)\n",
       "    (4): ReLU(inplace=True)\n",
       "    (5): Dropout(p=0.5, inplace=False)\n",
       "    (6): Linear(in_features=4096, out_features=1000, bias=True)\n",
       "  )\n",
       ")"
      ]
     },
     "execution_count": 9,
     "metadata": {},
     "output_type": "execute_result"
    }
   ],
   "source": [
    "cnn.eval()\n"
   ]
  },
  {
   "cell_type": "code",
   "execution_count": 10,
   "metadata": {},
   "outputs": [
    {
     "data": {
      "text/plain": [
       "RNN(\n",
       "  (drop): Dropout(p=0.5, inplace=False)\n",
       "  (encode): Embedding(4528, 200)\n",
       "  (rnn): RNN(200, 1000)\n",
       "  (decode): Linear(in_features=1000, out_features=4528, bias=True)\n",
       ")"
      ]
     },
     "execution_count": 10,
     "metadata": {},
     "output_type": "execute_result"
    }
   ],
   "source": [
    "rnn.eval()"
   ]
  },
  {
   "cell_type": "code",
   "execution_count": 12,
   "metadata": {},
   "outputs": [],
   "source": [
    "def load_img(img_name):\n",
    "    transform = transforms.ToTensor()\n",
    "    normalize = transforms.Normalize([0.485, 0.456, 0.406], [0.229, 0.224, 0.225])\n",
    "\n",
    "    img = Image.open(os.path.join('../data/Flickr8k_Dataset', img_name))\n",
    "    img = img.resize((224, 224))\n",
    "    img = transform(img)\n",
    "    img = normalize(img)\n",
    "    img.unsqueeze_(0)\n",
    "\n",
    "    return img"
   ]
  },
  {
   "cell_type": "code",
   "execution_count": 36,
   "metadata": {},
   "outputs": [],
   "source": [
    "def generate(img_name):\n",
    "    rnn.eval()\n",
    "    cnn.eval()\n",
    "    \n",
    "    out_sen = []\n",
    "    \n",
    "    img = load_img(img_name)\n",
    "    hidden = rnn.init_hidden()\n",
    "    \n",
    "    cnn_output = cnn(img)\n",
    "    \n",
    "    cnn_output.squeeze_(0)\n",
    "    tmp = cnn_output.detach().numpy()\n",
    "    bhi = rnn.rnn.bias_ih_l0.detach().numpy()\n",
    "    bhi[:] = tmp\n",
    "    \n",
    "    input = torch.randint(len(corpus.dictionary), (1,), dtype = torch.long)\n",
    "    \n",
    "    with torch.no_grad():\n",
    "        for i in range(10):\n",
    "            output, hidden = rnn(input, hidden)\n",
    "            \n",
    "            word_weights = output.squeeze().div(1.0).exp().cpu()\n",
    "            word_idx = torch.multinomial(word_weights, 1)[0]\n",
    "            \n",
    "            input.fill_(word_idx)\n",
    "            \n",
    "            word = corpus.dictionary.idx2word[word_idx]\n",
    "            out_sen.append(word)\n",
    "\n",
    "    print(out_sen)        \n",
    "    return out_sen"
   ]
  },
  {
   "cell_type": "code",
   "execution_count": 37,
   "metadata": {},
   "outputs": [
    {
     "name": "stdout",
     "output_type": "stream",
     "text": [
      "['attempts', 'attempts', 'attempts', 'morning', 'stuff', 'stuff', 'barrels', 'marking', 'athlete', 'dogs']\n"
     ]
    }
   ],
   "source": [
    "out = generate('58363930_0544844edd.jpg')"
   ]
  },
  {
   "cell_type": "code",
   "execution_count": 38,
   "metadata": {},
   "outputs": [
    {
     "name": "stdout",
     "output_type": "stream",
     "text": [
      "['attempts', 'attempts', 'attempts', 'morning', 'stuff', 'stuff', 'barrels', 'marking', 'athlete', 'dogs']\n"
     ]
    }
   ],
   "source": [
    "print(out)"
   ]
  },
  {
   "cell_type": "code",
   "execution_count": null,
   "metadata": {},
   "outputs": [],
   "source": []
  }
 ],
 "metadata": {
  "kernelspec": {
   "display_name": "Python 3",
   "language": "python",
   "name": "python3"
  },
  "language_info": {
   "codemirror_mode": {
    "name": "ipython",
    "version": 3
   },
   "file_extension": ".py",
   "mimetype": "text/x-python",
   "name": "python",
   "nbconvert_exporter": "python",
   "pygments_lexer": "ipython3",
   "version": "3.7.7"
  }
 },
 "nbformat": 4,
 "nbformat_minor": 4
}
