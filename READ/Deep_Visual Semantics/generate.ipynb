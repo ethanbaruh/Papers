{
 "cells": [
  {
   "cell_type": "code",
   "execution_count": 1,
   "metadata": {},
   "outputs": [],
   "source": [
    "import torch\n",
    "import os\n",
    "\n",
    "import pandas as pd\n",
    "from PIL import Image\n",
    "\n",
    "import torch.nn as nn\n",
    "import torch.nn.functional as F\n",
    "from torch.utils.data import Dataset, DataLoader\n",
    "from torchvision import transforms"
   ]
  },
  {
   "cell_type": "code",
   "execution_count": 2,
   "metadata": {},
   "outputs": [],
   "source": [
    "class Dictionary(object):\n",
    "    def __init__(self):\n",
    "        self.idx2word = []\n",
    "        self.word2idx = {}\n",
    "        self.add_word('<pad>')\n",
    "\n",
    "    def add_word(self, word):\n",
    "        if word not in self.idx2word:\n",
    "            self.idx2word.append(word)\n",
    "            self.word2idx[word] = len(self.idx2word) - 1\n",
    "        return self.word2idx[word]\n",
    "\n",
    "    def __len__(self):\n",
    "        return len(self.idx2word)\n",
    "\n",
    "class Corpus(Dataset):\n",
    "    def __init__(self, caption_path, bsz = 20, transform = None):\n",
    "        self.caption_path = caption_path\n",
    "\n",
    "        self.dictionary = Dictionary()\n",
    "        self.captions = self.tokenize()\n",
    "        self.keys = list(self.captions)\n",
    "        self.bsz = bsz\n",
    "        self.num_batches = self.__len__() // self.bsz\n",
    "\n",
    "\n",
    "    def tokenize(self):\n",
    "        captions_csv = pd.read_csv(os.path.join(self.caption_path, 'cleaned_captions.csv'))\n",
    "\n",
    "        for i in range(len(captions_csv)):\n",
    "            line = captions_csv.iloc[i, 1]\n",
    "            words = line.lower().split() + ['<eos>']\n",
    "            for word in words:\n",
    "                self.dictionary.add_word(word)\n",
    "        self.dictionary.add_word('<pad>')\n",
    "\n",
    "        path2cap = {}\n",
    "        for i in range(len(captions_csv)):\n",
    "            line = captions_csv.iloc[i, 1]\n",
    "            words = line.lower().split() + ['<eos>']\n",
    "            ids = []\n",
    "            for word in words:\n",
    "                ids.append(self.dictionary.word2idx[word])\n",
    "            path2cap[captions_csv.iloc[i, 0]] = ids\n",
    "\n",
    "        return path2cap\n",
    "\n",
    "    def __len__(self):\n",
    "        return len(self.captions)\n",
    "\n",
    "    def __getitem__(self, idx):\n",
    "        transform = transforms.ToTensor()\n",
    "\n",
    "        img_paths = self.keys[idx*self.bsz : (idx+1) * self.bsz]\n",
    "        batch_captions = []\n",
    "        for path in img_paths:\n",
    "            batch_captions.append(torch.Tensor(self.captions[path]))\n",
    "\n",
    "        # Pad captions\n",
    "        padded_captions = torch.nn.utils.rnn.pad_sequence(batch_captions, batch_first = True)\n",
    "        captions = padded_captions.view(-1)\n",
    "\n",
    "        # Fill a torch.Tensor with the img values. Final tensor should be of shape [20, 3, 300, 300]\n",
    "        img_tensor = torch.zeros(0, 3, 300, 300)\n",
    "        for path in img_paths:\n",
    "            img = Image.open(os.path.join(os.path.join(self.caption_path, 'Flickr8k_Dataset'),path))\n",
    "            img = img.resize((300, 300))\n",
    "            img = transform(img)\n",
    "            img.unsqueeze_(0)\n",
    "\n",
    "            img_tensor = torch.cat((img_tensor, img), 0)\n",
    "\n",
    "        return captions, img_tensor\n"
   ]
  },
  {
   "cell_type": "code",
   "execution_count": 3,
   "metadata": {},
   "outputs": [],
   "source": [
    "corpus = Corpus('data')\n",
    "ntokens = len(corpus.dictionary)"
   ]
  },
  {
   "cell_type": "code",
   "execution_count": 4,
   "metadata": {},
   "outputs": [],
   "source": [
    "class RNN(nn.Module):\n",
    "    def __init__(self, ntokens, ninp, nhid, nlayers, dropout = 0.5):\n",
    "        super(RNN, self).__init__()\n",
    "\n",
    "        self.ntokens = ntokens\n",
    "        self.nhid = nhid\n",
    "        self.nlayers = nlayers\n",
    "\n",
    "        self.drop = nn.Dropout(dropout)\n",
    "\n",
    "        # CNN SECTION\n",
    "        self.conv1 = nn.Conv2d(3, 16, 3) # Size [n, 16, 298, 298]\n",
    "        self.pool = nn.MaxPool2d(2) # Size [n, 16, 149, 149]\n",
    "        self.conv2 = nn.Conv2d(16, 16, 5) # Size [n, 16, 72, 72] (after pool)\n",
    "        self.fc1 = nn.Linear(16 * 72 * 72, 64) # Size [n, 285]\n",
    "\n",
    "        # RNN SECTION\n",
    "        self.encode = nn.Embedding(ntokens, ninp)\n",
    "        self.lstm = nn.LSTM(ninp, nhid, nlayers, dropout = dropout)\n",
    "        self.decode = nn.Linear(nhid, ntokens)\n",
    "\n",
    "    def forward(self, input, h):\n",
    "        # Input should be Tensor representing the images with shape [bsz, 3, 300, 300]\n",
    "        # CNN\n",
    "        img = self.pool(F.relu(self.conv1(input)))\n",
    "        img = self.pool(F.relu(self.conv2(img)))\n",
    "        img = img.view(-1, 16 * 72 * 72)\n",
    "        img_info = F.relu(self.fc1(img)).type(torch.LongTensor)\n",
    "\n",
    "        # Reshaping for RNN\n",
    "        img_info = img_info.view(64, -1)\n",
    "\n",
    "        # RNN\n",
    "        emb = self.drop(self.encode(img_info))\n",
    "        out, hidden = self.lstm(emb, h)\n",
    "        out = self.drop(out)\n",
    "\n",
    "        decoded = self.decode(out)\n",
    "        decoded = decoded.view(-1, self.ntokens)\n",
    "\n",
    "        return F.log_softmax(decoded, dim = 1), hidden\n",
    "\n",
    "    def init_hidden(self, bsz):\n",
    "        return (torch.zeros(self.nlayers, bsz, self.nhid), torch.zeros(self.nlayers, bsz, self.nhid))\n"
   ]
  },
  {
   "cell_type": "code",
   "execution_count": 5,
   "metadata": {},
   "outputs": [],
   "source": [
    "#model = RNN(ntokens, 200, 200, 2)"
   ]
  },
  {
   "cell_type": "code",
   "execution_count": 6,
   "metadata": {},
   "outputs": [],
   "source": [
    "with open('model.pt', 'rb') as f:\n",
    "    model = torch.load(f)"
   ]
  },
  {
   "cell_type": "code",
   "execution_count": 7,
   "metadata": {},
   "outputs": [
    {
     "data": {
      "text/plain": [
       "RNN(\n",
       "  (drop): Dropout(p=0.5, inplace=False)\n",
       "  (conv1): Conv2d(3, 16, kernel_size=(3, 3), stride=(1, 1))\n",
       "  (pool): MaxPool2d(kernel_size=2, stride=2, padding=0, dilation=1, ceil_mode=False)\n",
       "  (conv2): Conv2d(16, 16, kernel_size=(5, 5), stride=(1, 1))\n",
       "  (fc1): Linear(in_features=82944, out_features=64, bias=True)\n",
       "  (encode): Embedding(4528, 200)\n",
       "  (lstm): LSTM(200, 200, num_layers=2, dropout=0.5)\n",
       "  (decode): Linear(in_features=200, out_features=4528, bias=True)\n",
       ")"
      ]
     },
     "execution_count": 7,
     "metadata": {},
     "output_type": "execute_result"
    }
   ],
   "source": [
    "model.eval()"
   ]
  },
  {
   "cell_type": "code",
   "execution_count": 9,
   "metadata": {},
   "outputs": [],
   "source": [
    "def get_img(path):\n",
    "    transform = transforms.ToTensor()\n",
    "\n",
    "    img = Image.open(os.path.join('data/Flickr8k_Dataset',path))\n",
    "    img = img.resize((300, 300))\n",
    "    img = transform(img)\n",
    "    img.unsqueeze_(0)\n",
    "    \n",
    "    return img"
   ]
  },
  {
   "cell_type": "code",
   "execution_count": 69,
   "metadata": {},
   "outputs": [],
   "source": [
    "def generate():\n",
    "    model.eval()\n",
    "    hidden = model.init_hidden(1)\n",
    "    \n",
    "    img = get_img('23445819_3a458716c1.jpg')\n",
    "    out, hidden = model(img, hidden)\n",
    "    print(out.shape)\n",
    "    word_weights = out.squeeze().div(1.0).exp().cpu()\n",
    "    print(word_weights.shape)\n",
    "    word_idx = torch.multinomial(word_weights, 1)[0:10]\n",
    "    word_idx_og = torch.multinomial(word_weights, 1)[0]\n",
    "    \n",
    "    \n",
    "    print(word_idx.shape)\n",
    "    sen = [corpus.dictionary.idx2word[i.item()] for i in word_idx]\n",
    "    print(sen)\n",
    "    print(corpus.dictionary.idx2word[word_idx_og])"
   ]
  },
  {
   "cell_type": "code",
   "execution_count": 70,
   "metadata": {},
   "outputs": [
    {
     "name": "stdout",
     "output_type": "stream",
     "text": [
      "torch.Size([64, 4528])\n",
      "torch.Size([64, 4528])\n",
      "torch.Size([10, 1])\n",
      "['lavish', 'in', 'a', 'fields', 'with', '<eos>', 'building', 'are', 'young', ',']\n",
      "water\n"
     ]
    }
   ],
   "source": [
    "generate()"
   ]
  },
  {
   "cell_type": "code",
   "execution_count": 47,
   "metadata": {},
   "outputs": [
    {
     "name": "stdout",
     "output_type": "stream",
     "text": [
      "torch.Size([10, 1])\n"
     ]
    }
   ],
   "source": [
    "x = torch.ones(10,1)\n",
    "print(x.shape)"
   ]
  },
  {
   "cell_type": "code",
   "execution_count": 48,
   "metadata": {},
   "outputs": [
    {
     "name": "stdout",
     "output_type": "stream",
     "text": [
      "tensor([1.])\n",
      "tensor([1.])\n",
      "tensor([1.])\n",
      "tensor([1.])\n",
      "tensor([1.])\n",
      "tensor([1.])\n",
      "tensor([1.])\n",
      "tensor([1.])\n",
      "tensor([1.])\n",
      "tensor([1.])\n"
     ]
    }
   ],
   "source": [
    "for i in x:\n",
    "    print(i)"
   ]
  },
  {
   "cell_type": "code",
   "execution_count": null,
   "metadata": {},
   "outputs": [],
   "source": []
  }
 ],
 "metadata": {
  "kernelspec": {
   "display_name": "Python 3",
   "language": "python",
   "name": "python3"
  },
  "language_info": {
   "codemirror_mode": {
    "name": "ipython",
    "version": 3
   },
   "file_extension": ".py",
   "mimetype": "text/x-python",
   "name": "python",
   "nbconvert_exporter": "python",
   "pygments_lexer": "ipython3",
   "version": "3.7.7"
  }
 },
 "nbformat": 4,
 "nbformat_minor": 4
}
