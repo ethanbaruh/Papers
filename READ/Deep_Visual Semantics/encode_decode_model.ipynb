{
 "cells": [
  {
   "cell_type": "code",
   "execution_count": 1,
   "metadata": {},
   "outputs": [],
   "source": [
    "import torch\n",
    "import torch.nn as nn\n",
    "import torch.nn.functional as F\n",
    "from torch.utils.data import Dataset, DataLoader\n",
    "from torch.nn.utils.rnn import pad_sequence, pack_padded_sequence, pad_packed_sequence\n",
    "\n",
    "from torchvision import models\n",
    "from torchvision import transforms\n",
    "\n",
    "import os\n",
    "import time\n",
    "\n",
    "import pandas as pd\n",
    "from PIL import Image"
   ]
  },
  {
   "cell_type": "code",
   "execution_count": 2,
   "metadata": {},
   "outputs": [
    {
     "name": "stdout",
     "output_type": "stream",
     "text": [
      "cpu\n"
     ]
    }
   ],
   "source": [
    "device = torch.device(\"cuda:0\" if torch.cuda.is_available() else \"cpu\")\n",
    "print(device)"
   ]
  },
  {
   "cell_type": "code",
   "execution_count": 3,
   "metadata": {},
   "outputs": [],
   "source": [
    "class Dictionary(object):\n",
    "    def __init__(self):\n",
    "        self.idx2word = []\n",
    "        self.word2idx = {}\n",
    "        self.add_word('<pad>')\n",
    "        \n",
    "    def add_word(self, word):\n",
    "        if word not in self.idx2word:\n",
    "            self.idx2word.append(word)\n",
    "            self.word2idx[word] = len(self.idx2word) - 1\n",
    "        return self.word2idx[word]\n",
    "    \n",
    "    def __len__(self):\n",
    "        return len(self.idx2word)\n",
    "\n",
    "class Corpus(Dataset):\n",
    "    def __init__(self, caption_path, bsz = 32, transform = None):\n",
    "        self.caption_path = caption_path\n",
    "        \n",
    "        self.dictionary = Dictionary()\n",
    "        self.captions = self.tokenize()\n",
    "        self.keys = list(self.captions)\n",
    "        self.bsz = bsz\n",
    "        self.num_batches = self.__len__() // self.bsz\n",
    "        \n",
    "    def tokenize(self):\n",
    "        captions_csv = pd.read_csv(os.path.join(self.caption_path, 'cleaned_captions.csv'))\n",
    "        \n",
    "        for i in range(len(captions_csv)):\n",
    "            line = captions_csv.iloc[i, 1]\n",
    "            words = line.lower().split() + ['<eos>']\n",
    "            for word in words:\n",
    "                self.dictionary.add_word(word)\n",
    "                \n",
    "        path2cap = {}\n",
    "        for i in range(len(captions_csv)):\n",
    "            line = captions_csv.iloc[i, 1]\n",
    "            words = line.lower().split() + ['<eos>']\n",
    "            ids = []\n",
    "            for word in words:\n",
    "                ids.append(self.dictionary.word2idx[word])\n",
    "            path2cap[captions_csv.iloc[i, 0]] = ids\n",
    "        \n",
    "        return path2cap\n",
    "\n",
    "    def __len__(self):\n",
    "        return len(self.captions)\n",
    "    \n",
    "    def __getitem__(self, idx):\n",
    "        transform = transforms.ToTensor()\n",
    "        normalize = transforms.Normalize([0.485, 0.456, 0.406], [0.229, 0.224, 0.225])\n",
    "        \n",
    "        img_paths = self.keys[idx*self.bsz : (idx+1) * self.bsz]\n",
    "        batch_captions = []\n",
    "        batch_targets = []\n",
    "        for path in img_paths:\n",
    "            tmp_caps = self.captions[path]\n",
    "            batch_captions.append(torch.Tensor(tmp_caps).type(torch.LongTensor))\n",
    "            batch_targets.append(torch.Tensor(tmp_caps).type(torch.LongTensor))\n",
    "\n",
    "        padded_captions = self.pad(batch_captions)\n",
    "        padded_targets = self.pad(batch_targets)\n",
    "        \n",
    "        img_tensor = torch.zeros(0, 3, 224, 224)\n",
    "        for path in img_paths:\n",
    "            img = Image.open(os.path.join(os.path.join(self.caption_path, 'Flickr8k_Dataset'), path))\n",
    "            img = img.resize((224, 224))\n",
    "            img = transform(img)\n",
    "            img = normalize(img)\n",
    "            img.unsqueeze_(0)\n",
    "            \n",
    "            img_tensor = torch.cat((img_tensor, img), 0)\n",
    "            \n",
    "        return padded_captions, padded_targets[0].view(-1), img_tensor \n",
    "      \n",
    "    def pad(self, batch):\n",
    "      batch.sort(reverse = True, key = len)\n",
    "      lens = list([len(x) for x in batch])\n",
    "\n",
    "      padded = pad_sequence(batch, batch_first = True)\n",
    "\n",
    "      return (padded, lens)"
   ]
  },
  {
   "cell_type": "code",
   "execution_count": 4,
   "metadata": {},
   "outputs": [],
   "source": [
    "corpus = Corpus('data')"
   ]
  },
  {
   "cell_type": "code",
   "execution_count": 5,
   "metadata": {},
   "outputs": [],
   "source": [
    "class Encoder(nn.Module):\n",
    "  def __init__(self, encode_size):\n",
    "    super(Encoder, self).__init__()\n",
    "\n",
    "    self.resnet = models.resnet18(pretrained = False, progress = True)\n",
    "\n",
    "    self.resnet.fc = nn.Linear(512, encode_size)\n",
    "    \n",
    "  def forward(self, img):\n",
    "    output = torch.tanh(self.resnet(img))\n",
    "    return output\n"
   ]
  },
  {
   "cell_type": "code",
   "execution_count": 6,
   "metadata": {},
   "outputs": [],
   "source": [
    "class Decoder(nn.Module):\n",
    "  def __init__(self, ntokens, ninp, nhid, dropout = 0.5):\n",
    "    super(Decoder, self).__init__()\n",
    "\n",
    "    self.ntokens = ntokens\n",
    "    self.nhid = nhid\n",
    "    \n",
    "    self.drop = nn.Dropout(dropout)\n",
    "    self.embed = nn.Embedding(ntokens, ninp)\n",
    "    self.LSTM = nn.LSTM(ninp, nhid)\n",
    "    self.decode = nn.Linear(nhid, ntokens)\n",
    "\n",
    "  def forward(self, input, h, t):    \n",
    "    if t > 0:\n",
    "        input = self.embed(input)\n",
    "\n",
    "    out, hidden = self.LSTM(input, h)\n",
    "\n",
    "    out = self.drop(out)\n",
    "\n",
    "    decoded = self.decode(out)\n",
    "    decoded = decoded.view(-1, self.ntokens)\n",
    "\n",
    "    return F.log_softmax(decoded, dim = 1), hidden\n",
    "\n",
    "  def init_hidden(self, bsz):\n",
    "    return (torch.zeros(1, bsz, self.nhid).to(device), torch.zeros(1, bsz, self.nhid).to(device))"
   ]
  },
  {
   "cell_type": "code",
   "execution_count": 9,
   "metadata": {},
   "outputs": [],
   "source": [
    "encoder = Encoder(200).to(device)\n",
    "decoder = Decoder(len(corpus.dictionary), 200, 256).to(device)"
   ]
  },
  {
   "cell_type": "code",
   "execution_count": 10,
   "metadata": {},
   "outputs": [
    {
     "ename": "RuntimeError",
     "evalue": "Error(s) in loading state_dict for Encoder:\n\tMissing key(s) in state_dict: \"resnet.conv1.weight\", \"resnet.bn1.weight\", \"resnet.bn1.bias\", \"resnet.bn1.running_mean\", \"resnet.bn1.running_var\", \"resnet.layer1.0.conv1.weight\", \"resnet.layer1.0.bn1.weight\", \"resnet.layer1.0.bn1.bias\", \"resnet.layer1.0.bn1.running_mean\", \"resnet.layer1.0.bn1.running_var\", \"resnet.layer1.0.conv2.weight\", \"resnet.layer1.0.bn2.weight\", \"resnet.layer1.0.bn2.bias\", \"resnet.layer1.0.bn2.running_mean\", \"resnet.layer1.0.bn2.running_var\", \"resnet.layer1.1.conv1.weight\", \"resnet.layer1.1.bn1.weight\", \"resnet.layer1.1.bn1.bias\", \"resnet.layer1.1.bn1.running_mean\", \"resnet.layer1.1.bn1.running_var\", \"resnet.layer1.1.conv2.weight\", \"resnet.layer1.1.bn2.weight\", \"resnet.layer1.1.bn2.bias\", \"resnet.layer1.1.bn2.running_mean\", \"resnet.layer1.1.bn2.running_var\", \"resnet.layer2.0.conv1.weight\", \"resnet.layer2.0.bn1.weight\", \"resnet.layer2.0.bn1.bias\", \"resnet.layer2.0.bn1.running_mean\", \"resnet.layer2.0.bn1.running_var\", \"resnet.layer2.0.conv2.weight\", \"resnet.layer2.0.bn2.weight\", \"resnet.layer2.0.bn2.bias\", \"resnet.layer2.0.bn2.running_mean\", \"resnet.layer2.0.bn2.running_var\", \"resnet.layer2.0.downsample.0.weight\", \"resnet.layer2.0.downsample.1.weight\", \"resnet.layer2.0.downsample.1.bias\", \"resnet.layer2.0.downsample.1.running_mean\", \"resnet.layer2.0.downsample.1.running_var\", \"resnet.layer2.1.conv1.weight\", \"resnet.layer2.1.bn1.weight\", \"resnet.layer2.1.bn1.bias\", \"resnet.layer2.1.bn1.running_mean\", \"resnet.layer2.1.bn1.running_var\", \"resnet.layer2.1.conv2.weight\", \"resnet.layer2.1.bn2.weight\", \"resnet.layer2.1.bn2.bias\", \"resnet.layer2.1.bn2.running_mean\", \"resnet.layer2.1.bn2.running_var\", \"resnet.layer3.0.conv1.weight\", \"resnet.layer3.0.bn1.weight\", \"resnet.layer3.0.bn1.bias\", \"resnet.layer3.0.bn1.running_mean\", \"resnet.layer3.0.bn1.running_var\", \"resnet.layer3.0.conv2.weight\", \"resnet.layer3.0.bn2.weight\", \"resnet.layer3.0.bn2.bias\", \"resnet.layer3.0.bn2.running_mean\", \"resnet.layer3.0.bn2.running_var\", \"resnet.layer3.0.downsample.0.weight\", \"resnet.layer3.0.downsample.1.weight\", \"resnet.layer3.0.downsample.1.bias\", \"resnet.layer3.0.downsample.1.running_mean\", \"resnet.layer3.0.downsample.1.running_var\", \"resnet.layer3.1.conv1.weight\", \"resnet.layer3.1.bn1.weight\", \"resnet.layer3.1.bn1.bias\", \"resnet.layer3.1.bn1.running_mean\", \"resnet.layer3.1.bn1.running_var\", \"resnet.layer3.1.conv2.weight\", \"resnet.layer3.1.bn2.weight\", \"resnet.layer3.1.bn2.bias\", \"resnet.layer3.1.bn2.running_mean\", \"resnet.layer3.1.bn2.running_var\", \"resnet.layer4.0.conv1.weight\", \"resnet.layer4.0.bn1.weight\", \"resnet.layer4.0.bn1.bias\", \"resnet.layer4.0.bn1.running_mean\", \"resnet.layer4.0.bn1.running_var\", \"resnet.layer4.0.conv2.weight\", \"resnet.layer4.0.bn2.weight\", \"resnet.layer4.0.bn2.bias\", \"resnet.layer4.0.bn2.running_mean\", \"resnet.layer4.0.bn2.running_var\", \"resnet.layer4.0.downsample.0.weight\", \"resnet.layer4.0.downsample.1.weight\", \"resnet.layer4.0.downsample.1.bias\", \"resnet.layer4.0.downsample.1.running_mean\", \"resnet.layer4.0.downsample.1.running_var\", \"resnet.layer4.1.conv1.weight\", \"resnet.layer4.1.bn1.weight\", \"resnet.layer4.1.bn1.bias\", \"resnet.layer4.1.bn1.running_mean\", \"resnet.layer4.1.bn1.running_var\", \"resnet.layer4.1.conv2.weight\", \"resnet.layer4.1.bn2.weight\", \"resnet.layer4.1.bn2.bias\", \"resnet.layer4.1.bn2.running_mean\", \"resnet.layer4.1.bn2.running_var\", \"resnet.fc.weight\", \"resnet.fc.bias\". \n\tUnexpected key(s) in state_dict: \"resnet.0.weight\", \"resnet.1.weight\", \"resnet.1.bias\", \"resnet.1.running_mean\", \"resnet.1.running_var\", \"resnet.1.num_batches_tracked\", \"resnet.4.0.conv1.weight\", \"resnet.4.0.bn1.weight\", \"resnet.4.0.bn1.bias\", \"resnet.4.0.bn1.running_mean\", \"resnet.4.0.bn1.running_var\", \"resnet.4.0.bn1.num_batches_tracked\", \"resnet.4.0.conv2.weight\", \"resnet.4.0.bn2.weight\", \"resnet.4.0.bn2.bias\", \"resnet.4.0.bn2.running_mean\", \"resnet.4.0.bn2.running_var\", \"resnet.4.0.bn2.num_batches_tracked\", \"resnet.4.0.conv3.weight\", \"resnet.4.0.bn3.weight\", \"resnet.4.0.bn3.bias\", \"resnet.4.0.bn3.running_mean\", \"resnet.4.0.bn3.running_var\", \"resnet.4.0.bn3.num_batches_tracked\", \"resnet.4.0.downsample.0.weight\", \"resnet.4.0.downsample.1.weight\", \"resnet.4.0.downsample.1.bias\", \"resnet.4.0.downsample.1.running_mean\", \"resnet.4.0.downsample.1.running_var\", \"resnet.4.0.downsample.1.num_batches_tracked\", \"resnet.4.1.conv1.weight\", \"resnet.4.1.bn1.weight\", \"resnet.4.1.bn1.bias\", \"resnet.4.1.bn1.running_mean\", \"resnet.4.1.bn1.running_var\", \"resnet.4.1.bn1.num_batches_tracked\", \"resnet.4.1.conv2.weight\", \"resnet.4.1.bn2.weight\", \"resnet.4.1.bn2.bias\", \"resnet.4.1.bn2.running_mean\", \"resnet.4.1.bn2.running_var\", \"resnet.4.1.bn2.num_batches_tracked\", \"resnet.4.1.conv3.weight\", \"resnet.4.1.bn3.weight\", \"resnet.4.1.bn3.bias\", \"resnet.4.1.bn3.running_mean\", \"resnet.4.1.bn3.running_var\", \"resnet.4.1.bn3.num_batches_tracked\", \"resnet.4.2.conv1.weight\", \"resnet.4.2.bn1.weight\", \"resnet.4.2.bn1.bias\", \"resnet.4.2.bn1.running_mean\", \"resnet.4.2.bn1.running_var\", \"resnet.4.2.bn1.num_batches_tracked\", \"resnet.4.2.conv2.weight\", \"resnet.4.2.bn2.weight\", \"resnet.4.2.bn2.bias\", \"resnet.4.2.bn2.running_mean\", \"resnet.4.2.bn2.running_var\", \"resnet.4.2.bn2.num_batches_tracked\", \"resnet.4.2.conv3.weight\", \"resnet.4.2.bn3.weight\", \"resnet.4.2.bn3.bias\", \"resnet.4.2.bn3.running_mean\", \"resnet.4.2.bn3.running_var\", \"resnet.4.2.bn3.num_batches_tracked\", \"resnet.5.0.conv1.weight\", \"resnet.5.0.bn1.weight\", \"resnet.5.0.bn1.bias\", \"resnet.5.0.bn1.running_mean\", \"resnet.5.0.bn1.running_var\", \"resnet.5.0.bn1.num_batches_tracked\", \"resnet.5.0.conv2.weight\", \"resnet.5.0.bn2.weight\", \"resnet.5.0.bn2.bias\", \"resnet.5.0.bn2.running_mean\", \"resnet.5.0.bn2.running_var\", \"resnet.5.0.bn2.num_batches_tracked\", \"resnet.5.0.conv3.weight\", \"resnet.5.0.bn3.weight\", \"resnet.5.0.bn3.bias\", \"resnet.5.0.bn3.running_mean\", \"resnet.5.0.bn3.running_var\", \"resnet.5.0.bn3.num_batches_tracked\", \"resnet.5.0.downsample.0.weight\", \"resnet.5.0.downsample.1.weight\", \"resnet.5.0.downsample.1.bias\", \"resnet.5.0.downsample.1.running_mean\", \"resnet.5.0.downsample.1.running_var\", \"resnet.5.0.downsample.1.num_batches_tracked\", \"resnet.5.1.conv1.weight\", \"resnet.5.1.bn1.weight\", \"resnet.5.1.bn1.bias\", \"resnet.5.1.bn1.running_mean\", \"resnet.5.1.bn1.running_var\", \"resnet.5.1.bn1.num_batches_tracked\", \"resnet.5.1.conv2.weight\", \"resnet.5.1.bn2.weight\", \"resnet.5.1.bn2.bias\", \"resnet.5.1.bn2.running_mean\", \"resnet.5.1.bn2.running_var\", \"resnet.5.1.bn2.num_batches_tracked\", \"resnet.5.1.conv3.weight\", \"resnet.5.1.bn3.weight\", \"resnet.5.1.bn3.bias\", \"resnet.5.1.bn3.running_mean\", \"resnet.5.1.bn3.running_var\", \"resnet.5.1.bn3.num_batches_tracked\", \"resnet.5.2.conv1.weight\", \"resnet.5.2.bn1.weight\", \"resnet.5.2.bn1.bias\", \"resnet.5.2.bn1.running_mean\", \"resnet.5.2.bn1.running_var\", \"resnet.5.2.bn1.num_batches_tracked\", \"resnet.5.2.conv2.weight\", \"resnet.5.2.bn2.weight\", \"resnet.5.2.bn2.bias\", \"resnet.5.2.bn2.running_mean\", \"resnet.5.2.bn2.running_var\", \"resnet.5.2.bn2.num_batches_tracked\", \"resnet.5.2.conv3.weight\", \"resnet.5.2.bn3.weight\", \"resnet.5.2.bn3.bias\", \"resnet.5.2.bn3.running_mean\", \"resnet.5.2.bn3.running_var\", \"resnet.5.2.bn3.num_batches_tracked\", \"resnet.5.3.conv1.weight\", \"resnet.5.3.bn1.weight\", \"resnet.5.3.bn1.bias\", \"resnet.5.3.bn1.running_mean\", \"resnet.5.3.bn1.running_var\", \"resnet.5.3.bn1.num_batches_tracked\", \"resnet.5.3.conv2.weight\", \"resnet.5.3.bn2.weight\", \"resnet.5.3.bn2.bias\", \"resnet.5.3.bn2.running_mean\", \"resnet.5.3.bn2.running_var\", \"resnet.5.3.bn2.num_batches_tracked\", \"resnet.5.3.conv3.weight\", \"resnet.5.3.bn3.weight\", \"resnet.5.3.bn3.bias\", \"resnet.5.3.bn3.running_mean\", \"resnet.5.3.bn3.running_var\", \"resnet.5.3.bn3.num_batches_tracked\", \"resnet.6.0.conv1.weight\", \"resnet.6.0.bn1.weight\", \"resnet.6.0.bn1.bias\", \"resnet.6.0.bn1.running_mean\", \"resnet.6.0.bn1.running_var\", \"resnet.6.0.bn1.num_batches_tracked\", \"resnet.6.0.conv2.weight\", \"resnet.6.0.bn2.weight\", \"resnet.6.0.bn2.bias\", \"resnet.6.0.bn2.running_mean\", \"resnet.6.0.bn2.running_var\", \"resnet.6.0.bn2.num_batches_tracked\", \"resnet.6.0.conv3.weight\", \"resnet.6.0.bn3.weight\", \"resnet.6.0.bn3.bias\", \"resnet.6.0.bn3.running_mean\", \"resnet.6.0.bn3.running_var\", \"resnet.6.0.bn3.num_batches_tracked\", \"resnet.6.0.downsample.0.weight\", \"resnet.6.0.downsample.1.weight\", \"resnet.6.0.downsample.1.bias\", \"resnet.6.0.downsample.1.running_mean\", \"resnet.6.0.downsample.1.running_var\", \"resnet.6.0.downsample.1.num_batches_tracked\", \"resnet.6.1.conv1.weight\", \"resnet.6.1.bn1.weight\", \"resnet.6.1.bn1.bias\", \"resnet.6.1.bn1.running_mean\", \"resnet.6.1.bn1.running_var\", \"resnet.6.1.bn1.num_batches_tracked\", \"resnet.6.1.conv2.weight\", \"resnet.6.1.bn2.weight\", \"resnet.6.1.bn2.bias\", \"resnet.6.1.bn2.running_mean\", \"resnet.6.1.bn2.running_var\", \"resnet.6.1.bn2.num_batches_tracked\", \"resnet.6.1.conv3.weight\", \"resnet.6.1.bn3.weight\", \"resnet.6.1.bn3.bias\", \"resnet.6.1.bn3.running_mean\", \"resnet.6.1.bn3.running_var\", \"resnet.6.1.bn3.num_batches_tracked\", \"resnet.6.2.conv1.weight\", \"resnet.6.2.bn1.weight\", \"resnet.6.2.bn1.bias\", \"resnet.6.2.bn1.running_mean\", \"resnet.6.2.bn1.running_var\", \"resnet.6.2.bn1.num_batches_tracked\", \"resnet.6.2.conv2.weight\", \"resnet.6.2.bn2.weight\", \"resnet.6.2.bn2.bias\", \"resnet.6.2.bn2.running_mean\", \"resnet.6.2.bn2.running_var\", \"resnet.6.2.bn2.num_batches_tracked\", \"resnet.6.2.conv3.weight\", \"resnet.6.2.bn3.weight\", \"resnet.6.2.bn3.bias\", \"resnet.6.2.bn3.running_mean\", \"resnet.6.2.bn3.running_var\", \"resnet.6.2.bn3.num_batches_tracked\", \"resnet.6.3.conv1.weight\", \"resnet.6.3.bn1.weight\", \"resnet.6.3.bn1.bias\", \"resnet.6.3.bn1.running_mean\", \"resnet.6.3.bn1.running_var\", \"resnet.6.3.bn1.num_batches_tracked\", \"resnet.6.3.conv2.weight\", \"resnet.6.3.bn2.weight\", \"resnet.6.3.bn2.bias\", \"resnet.6.3.bn2.running_mean\", \"resnet.6.3.bn2.running_var\", \"resnet.6.3.bn2.num_batches_tracked\", \"resnet.6.3.conv3.weight\", \"resnet.6.3.bn3.weight\", \"resnet.6.3.bn3.bias\", \"resnet.6.3.bn3.running_mean\", \"resnet.6.3.bn3.running_var\", \"resnet.6.3.bn3.num_batches_tracked\", \"resnet.6.4.conv1.weight\", \"resnet.6.4.bn1.weight\", \"resnet.6.4.bn1.bias\", \"resnet.6.4.bn1.running_mean\", \"resnet.6.4.bn1.running_var\", \"resnet.6.4.bn1.num_batches_tracked\", \"resnet.6.4.conv2.weight\", \"resnet.6.4.bn2.weight\", \"resnet.6.4.bn2.bias\", \"resnet.6.4.bn2.running_mean\", \"resnet.6.4.bn2.running_var\", \"resnet.6.4.bn2.num_batches_tracked\", \"resnet.6.4.conv3.weight\", \"resnet.6.4.bn3.weight\", \"resnet.6.4.bn3.bias\", \"resnet.6.4.bn3.running_mean\", \"resnet.6.4.bn3.running_var\", \"resnet.6.4.bn3.num_batches_tracked\", \"resnet.6.5.conv1.weight\", \"resnet.6.5.bn1.weight\", \"resnet.6.5.bn1.bias\", \"resnet.6.5.bn1.running_mean\", \"resnet.6.5.bn1.running_var\", \"resnet.6.5.bn1.num_batches_tracked\", \"resnet.6.5.conv2.weight\", \"resnet.6.5.bn2.weight\", \"resnet.6.5.bn2.bias\", \"resnet.6.5.bn2.running_mean\", \"resnet.6.5.bn2.running_var\", \"resnet.6.5.bn2.num_batches_tracked\", \"resnet.6.5.conv3.weight\", \"resnet.6.5.bn3.weight\", \"resnet.6.5.bn3.bias\", \"resnet.6.5.bn3.running_mean\", \"resnet.6.5.bn3.running_var\", \"resnet.6.5.bn3.num_batches_tracked\", \"resnet.6.6.conv1.weight\", \"resnet.6.6.bn1.weight\", \"resnet.6.6.bn1.bias\", \"resnet.6.6.bn1.running_mean\", \"resnet.6.6.bn1.running_var\", \"resnet.6.6.bn1.num_batches_tracked\", \"resnet.6.6.conv2.weight\", \"resnet.6.6.bn2.weight\", \"resnet.6.6.bn2.bias\", \"resnet.6.6.bn2.running_mean\", \"resnet.6.6.bn2.running_var\", \"resnet.6.6.bn2.num_batches_tracked\", \"resnet.6.6.conv3.weight\", \"resnet.6.6.bn3.weight\", \"resnet.6.6.bn3.bias\", \"resnet.6.6.bn3.running_mean\", \"resnet.6.6.bn3.running_var\", \"resnet.6.6.bn3.num_batches_tracked\", \"resnet.6.7.conv1.weight\", \"resnet.6.7.bn1.weight\", \"resnet.6.7.bn1.bias\", \"resnet.6.7.bn1.running_mean\", \"resnet.6.7.bn1.running_var\", \"resnet.6.7.bn1.num_batches_tracked\", \"resnet.6.7.conv2.weight\", \"resnet.6.7.bn2.weight\", \"resnet.6.7.bn2.bias\", \"resnet.6.7.bn2.running_mean\", \"resnet.6.7.bn2.running_var\", \"resnet.6.7.bn2.num_batches_tracked\", \"resnet.6.7.conv3.weight\", \"resnet.6.7.bn3.weight\", \"resnet.6.7.bn3.bias\", \"resnet.6.7.bn3.running_mean\", \"resnet.6.7.bn3.running_var\", \"resnet.6.7.bn3.num_batches_tracked\", \"resnet.6.8.conv1.weight\", \"resnet.6.8.bn1.weight\", \"resnet.6.8.bn1.bias\", \"resnet.6.8.bn1.running_mean\", \"resnet.6.8.bn1.running_var\", \"resnet.6.8.bn1.num_batches_tracked\", \"resnet.6.8.conv2.weight\", \"resnet.6.8.bn2.weight\", \"resnet.6.8.bn2.bias\", \"resnet.6.8.bn2.running_mean\", \"resnet.6.8.bn2.running_var\", \"resnet.6.8.bn2.num_batches_tracked\", \"resnet.6.8.conv3.weight\", \"resnet.6.8.bn3.weight\", \"resnet.6.8.bn3.bias\", \"resnet.6.8.bn3.running_mean\", \"resnet.6.8.bn3.running_var\", \"resnet.6.8.bn3.num_batches_tracked\", \"resnet.6.9.conv1.weight\", \"resnet.6.9.bn1.weight\", \"resnet.6.9.bn1.bias\", \"resnet.6.9.bn1.running_mean\", \"resnet.6.9.bn1.running_var\", \"resnet.6.9.bn1.num_batches_tracked\", \"resnet.6.9.conv2.weight\", \"resnet.6.9.bn2.weight\", \"resnet.6.9.bn2.bias\", \"resnet.6.9.bn2.running_mean\", \"resnet.6.9.bn2.running_var\", \"resnet.6.9.bn2.num_batches_tracked\", \"resnet.6.9.conv3.weight\", \"resnet.6.9.bn3.weight\", \"resnet.6.9.bn3.bias\", \"resnet.6.9.bn3.running_mean\", \"resnet.6.9.bn3.running_var\", \"resnet.6.9.bn3.num_batches_tracked\", \"resnet.6.10.conv1.weight\", \"resnet.6.10.bn1.weight\", \"resnet.6.10.bn1.bias\", \"resnet.6.10.bn1.running_mean\", \"resnet.6.10.bn1.running_var\", \"resnet.6.10.bn1.num_batches_tracked\", \"resnet.6.10.conv2.weight\", \"resnet.6.10.bn2.weight\", \"resnet.6.10.bn2.bias\", \"resnet.6.10.bn2.running_mean\", \"resnet.6.10.bn2.running_var\", \"resnet.6.10.bn2.num_batches_tracked\", \"resnet.6.10.conv3.weight\", \"resnet.6.10.bn3.weight\", \"resnet.6.10.bn3.bias\", \"resnet.6.10.bn3.running_mean\", \"resnet.6.10.bn3.running_var\", \"resnet.6.10.bn3.num_batches_tracked\", \"resnet.6.11.conv1.weight\", \"resnet.6.11.bn1.weight\", \"resnet.6.11.bn1.bias\", \"resnet.6.11.bn1.running_mean\", \"resnet.6.11.bn1.running_var\", \"resnet.6.11.bn1.num_batches_tracked\", \"resnet.6.11.conv2.weight\", \"resnet.6.11.bn2.weight\", \"resnet.6.11.bn2.bias\", \"resnet.6.11.bn2.running_mean\", \"resnet.6.11.bn2.running_var\", \"resnet.6.11.bn2.num_batches_tracked\", \"resnet.6.11.conv3.weight\", \"resnet.6.11.bn3.weight\", \"resnet.6.11.bn3.bias\", \"resnet.6.11.bn3.running_mean\", \"resnet.6.11.bn3.running_var\", \"resnet.6.11.bn3.num_batches_tracked\", \"resnet.6.12.conv1.weight\", \"resnet.6.12.bn1.weight\", \"resnet.6.12.bn1.bias\", \"resnet.6.12.bn1.running_mean\", \"resnet.6.12.bn1.running_var\", \"resnet.6.12.bn1.num_batches_tracked\", \"resnet.6.12.conv2.weight\", \"resnet.6.12.bn2.weight\", \"resnet.6.12.bn2.bias\", \"resnet.6.12.bn2.running_mean\", \"resnet.6.12.bn2.running_var\", \"resnet.6.12.bn2.num_batches_tracked\", \"resnet.6.12.conv3.weight\", \"resnet.6.12.bn3.weight\", \"resnet.6.12.bn3.bias\", \"resnet.6.12.bn3.running_mean\", \"resnet.6.12.bn3.running_var\", \"resnet.6.12.bn3.num_batches_tracked\", \"resnet.6.13.conv1.weight\", \"resnet.6.13.bn1.weight\", \"resnet.6.13.bn1.bias\", \"resnet.6.13.bn1.running_mean\", \"resnet.6.13.bn1.running_var\", \"resnet.6.13.bn1.num_batches_tracked\", \"resnet.6.13.conv2.weight\", \"resnet.6.13.bn2.weight\", \"resnet.6.13.bn2.bias\", \"resnet.6.13.bn2.running_mean\", \"resnet.6.13.bn2.running_var\", \"resnet.6.13.bn2.num_batches_tracked\", \"resnet.6.13.conv3.weight\", \"resnet.6.13.bn3.weight\", \"resnet.6.13.bn3.bias\", \"resnet.6.13.bn3.running_mean\", \"resnet.6.13.bn3.running_var\", \"resnet.6.13.bn3.num_batches_tracked\", \"resnet.6.14.conv1.weight\", \"resnet.6.14.bn1.weight\", \"resnet.6.14.bn1.bias\", \"resnet.6.14.bn1.running_mean\", \"resnet.6.14.bn1.running_var\", \"resnet.6.14.bn1.num_batches_tracked\", \"resnet.6.14.conv2.weight\", \"resnet.6.14.bn2.weight\", \"resnet.6.14.bn2.bias\", \"resnet.6.14.bn2.running_mean\", \"resnet.6.14.bn2.running_var\", \"resnet.6.14.bn2.num_batches_tracked\", \"resnet.6.14.conv3.weight\", \"resnet.6.14.bn3.weight\", \"resnet.6.14.bn3.bias\", \"resnet.6.14.bn3.running_mean\", \"resnet.6.14.bn3.running_var\", \"resnet.6.14.bn3.num_batches_tracked\", \"resnet.6.15.conv1.weight\", \"resnet.6.15.bn1.weight\", \"resnet.6.15.bn1.bias\", \"resnet.6.15.bn1.running_mean\", \"resnet.6.15.bn1.running_var\", \"resnet.6.15.bn1.num_batches_tracked\", \"resnet.6.15.conv2.weight\", \"resnet.6.15.bn2.weight\", \"resnet.6.15.bn2.bias\", \"resnet.6.15.bn2.running_mean\", \"resnet.6.15.bn2.running_var\", \"resnet.6.15.bn2.num_batches_tracked\", \"resnet.6.15.conv3.weight\", \"resnet.6.15.bn3.weight\", \"resnet.6.15.bn3.bias\", \"resnet.6.15.bn3.running_mean\", \"resnet.6.15.bn3.running_var\", \"resnet.6.15.bn3.num_batches_tracked\", \"resnet.6.16.conv1.weight\", \"resnet.6.16.bn1.weight\", \"resnet.6.16.bn1.bias\", \"resnet.6.16.bn1.running_mean\", \"resnet.6.16.bn1.running_var\", \"resnet.6.16.bn1.num_batches_tracked\", \"resnet.6.16.conv2.weight\", \"resnet.6.16.bn2.weight\", \"resnet.6.16.bn2.bias\", \"resnet.6.16.bn2.running_mean\", \"resnet.6.16.bn2.running_var\", \"resnet.6.16.bn2.num_batches_tracked\", \"resnet.6.16.conv3.weight\", \"resnet.6.16.bn3.weight\", \"resnet.6.16.bn3.bias\", \"resnet.6.16.bn3.running_mean\", \"resnet.6.16.bn3.running_var\", \"resnet.6.16.bn3.num_batches_tracked\", \"resnet.6.17.conv1.weight\", \"resnet.6.17.bn1.weight\", \"resnet.6.17.bn1.bias\", \"resnet.6.17.bn1.running_mean\", \"resnet.6.17.bn1.running_var\", \"resnet.6.17.bn1.num_batches_tracked\", \"resnet.6.17.conv2.weight\", \"resnet.6.17.bn2.weight\", \"resnet.6.17.bn2.bias\", \"resnet.6.17.bn2.running_mean\", \"resnet.6.17.bn2.running_var\", \"resnet.6.17.bn2.num_batches_tracked\", \"resnet.6.17.conv3.weight\", \"resnet.6.17.bn3.weight\", \"resnet.6.17.bn3.bias\", \"resnet.6.17.bn3.running_mean\", \"resnet.6.17.bn3.running_var\", \"resnet.6.17.bn3.num_batches_tracked\", \"resnet.6.18.conv1.weight\", \"resnet.6.18.bn1.weight\", \"resnet.6.18.bn1.bias\", \"resnet.6.18.bn1.running_mean\", \"resnet.6.18.bn1.running_var\", \"resnet.6.18.bn1.num_batches_tracked\", \"resnet.6.18.conv2.weight\", \"resnet.6.18.bn2.weight\", \"resnet.6.18.bn2.bias\", \"resnet.6.18.bn2.running_mean\", \"resnet.6.18.bn2.running_var\", \"resnet.6.18.bn2.num_batches_tracked\", \"resnet.6.18.conv3.weight\", \"resnet.6.18.bn3.weight\", \"resnet.6.18.bn3.bias\", \"resnet.6.18.bn3.running_mean\", \"resnet.6.18.bn3.running_var\", \"resnet.6.18.bn3.num_batches_tracked\", \"resnet.6.19.conv1.weight\", \"resnet.6.19.bn1.weight\", \"resnet.6.19.bn1.bias\", \"resnet.6.19.bn1.running_mean\", \"resnet.6.19.bn1.running_var\", \"resnet.6.19.bn1.num_batches_tracked\", \"resnet.6.19.conv2.weight\", \"resnet.6.19.bn2.weight\", \"resnet.6.19.bn2.bias\", \"resnet.6.19.bn2.running_mean\", \"resnet.6.19.bn2.running_var\", \"resnet.6.19.bn2.num_batches_tracked\", \"resnet.6.19.conv3.weight\", \"resnet.6.19.bn3.weight\", \"resnet.6.19.bn3.bias\", \"resnet.6.19.bn3.running_mean\", \"resnet.6.19.bn3.running_var\", \"resnet.6.19.bn3.num_batches_tracked\", \"resnet.6.20.conv1.weight\", \"resnet.6.20.bn1.weight\", \"resnet.6.20.bn1.bias\", \"resnet.6.20.bn1.running_mean\", \"resnet.6.20.bn1.running_var\", \"resnet.6.20.bn1.num_batches_tracked\", \"resnet.6.20.conv2.weight\", \"resnet.6.20.bn2.weight\", \"resnet.6.20.bn2.bias\", \"resnet.6.20.bn2.running_mean\", \"resnet.6.20.bn2.running_var\", \"resnet.6.20.bn2.num_batches_tracked\", \"resnet.6.20.conv3.weight\", \"resnet.6.20.bn3.weight\", \"resnet.6.20.bn3.bias\", \"resnet.6.20.bn3.running_mean\", \"resnet.6.20.bn3.running_var\", \"resnet.6.20.bn3.num_batches_tracked\", \"resnet.6.21.conv1.weight\", \"resnet.6.21.bn1.weight\", \"resnet.6.21.bn1.bias\", \"resnet.6.21.bn1.running_mean\", \"resnet.6.21.bn1.running_var\", \"resnet.6.21.bn1.num_batches_tracked\", \"resnet.6.21.conv2.weight\", \"resnet.6.21.bn2.weight\", \"resnet.6.21.bn2.bias\", \"resnet.6.21.bn2.running_mean\", \"resnet.6.21.bn2.running_var\", \"resnet.6.21.bn2.num_batches_tracked\", \"resnet.6.21.conv3.weight\", \"resnet.6.21.bn3.weight\", \"resnet.6.21.bn3.bias\", \"resnet.6.21.bn3.running_mean\", \"resnet.6.21.bn3.running_var\", \"resnet.6.21.bn3.num_batches_tracked\", \"resnet.6.22.conv1.weight\", \"resnet.6.22.bn1.weight\", \"resnet.6.22.bn1.bias\", \"resnet.6.22.bn1.running_mean\", \"resnet.6.22.bn1.running_var\", \"resnet.6.22.bn1.num_batches_tracked\", \"resnet.6.22.conv2.weight\", \"resnet.6.22.bn2.weight\", \"resnet.6.22.bn2.bias\", \"resnet.6.22.bn2.running_mean\", \"resnet.6.22.bn2.running_var\", \"resnet.6.22.bn2.num_batches_tracked\", \"resnet.6.22.conv3.weight\", \"resnet.6.22.bn3.weight\", \"resnet.6.22.bn3.bias\", \"resnet.6.22.bn3.running_mean\", \"resnet.6.22.bn3.running_var\", \"resnet.6.22.bn3.num_batches_tracked\", \"resnet.7.0.conv1.weight\", \"resnet.7.0.bn1.weight\", \"resnet.7.0.bn1.bias\", \"resnet.7.0.bn1.running_mean\", \"resnet.7.0.bn1.running_var\", \"resnet.7.0.bn1.num_batches_tracked\", \"resnet.7.0.conv2.weight\", \"resnet.7.0.bn2.weight\", \"resnet.7.0.bn2.bias\", \"resnet.7.0.bn2.running_mean\", \"resnet.7.0.bn2.running_var\", \"resnet.7.0.bn2.num_batches_tracked\", \"resnet.7.0.conv3.weight\", \"resnet.7.0.bn3.weight\", \"resnet.7.0.bn3.bias\", \"resnet.7.0.bn3.running_mean\", \"resnet.7.0.bn3.running_var\", \"resnet.7.0.bn3.num_batches_tracked\", \"resnet.7.0.downsample.0.weight\", \"resnet.7.0.downsample.1.weight\", \"resnet.7.0.downsample.1.bias\", \"resnet.7.0.downsample.1.running_mean\", \"resnet.7.0.downsample.1.running_var\", \"resnet.7.0.downsample.1.num_batches_tracked\", \"resnet.7.1.conv1.weight\", \"resnet.7.1.bn1.weight\", \"resnet.7.1.bn1.bias\", \"resnet.7.1.bn1.running_mean\", \"resnet.7.1.bn1.running_var\", \"resnet.7.1.bn1.num_batches_tracked\", \"resnet.7.1.conv2.weight\", \"resnet.7.1.bn2.weight\", \"resnet.7.1.bn2.bias\", \"resnet.7.1.bn2.running_mean\", \"resnet.7.1.bn2.running_var\", \"resnet.7.1.bn2.num_batches_tracked\", \"resnet.7.1.conv3.weight\", \"resnet.7.1.bn3.weight\", \"resnet.7.1.bn3.bias\", \"resnet.7.1.bn3.running_mean\", \"resnet.7.1.bn3.running_var\", \"resnet.7.1.bn3.num_batches_tracked\", \"resnet.7.2.conv1.weight\", \"resnet.7.2.bn1.weight\", \"resnet.7.2.bn1.bias\", \"resnet.7.2.bn1.running_mean\", \"resnet.7.2.bn1.running_var\", \"resnet.7.2.bn1.num_batches_tracked\", \"resnet.7.2.conv2.weight\", \"resnet.7.2.bn2.weight\", \"resnet.7.2.bn2.bias\", \"resnet.7.2.bn2.running_mean\", \"resnet.7.2.bn2.running_var\", \"resnet.7.2.bn2.num_batches_tracked\", \"resnet.7.2.conv3.weight\", \"resnet.7.2.bn3.weight\", \"resnet.7.2.bn3.bias\", \"resnet.7.2.bn3.running_mean\", \"resnet.7.2.bn3.running_var\", \"resnet.7.2.bn3.num_batches_tracked\". ",
     "output_type": "error",
     "traceback": [
      "\u001b[0;31m---------------------------------------------------------------------------\u001b[0m",
      "\u001b[0;31mRuntimeError\u001b[0m                              Traceback (most recent call last)",
      "\u001b[0;32m<ipython-input-10-3c686473c886>\u001b[0m in \u001b[0;36m<module>\u001b[0;34m\u001b[0m\n\u001b[0;32m----> 1\u001b[0;31m \u001b[0mencoder\u001b[0m\u001b[0;34m.\u001b[0m\u001b[0mload_state_dict\u001b[0m\u001b[0;34m(\u001b[0m\u001b[0mtorch\u001b[0m\u001b[0;34m.\u001b[0m\u001b[0mload\u001b[0m\u001b[0;34m(\u001b[0m\u001b[0;34m'encoder.pt'\u001b[0m\u001b[0;34m,\u001b[0m \u001b[0mmap_location\u001b[0m\u001b[0;34m=\u001b[0m\u001b[0;34m'cpu'\u001b[0m\u001b[0;34m)\u001b[0m\u001b[0;34m)\u001b[0m\u001b[0;34m\u001b[0m\u001b[0;34m\u001b[0m\u001b[0m\n\u001b[0m\u001b[1;32m      2\u001b[0m \u001b[0mdecoder\u001b[0m\u001b[0;34m.\u001b[0m\u001b[0mload_state_dict\u001b[0m\u001b[0;34m(\u001b[0m\u001b[0mtorch\u001b[0m\u001b[0;34m.\u001b[0m\u001b[0mload\u001b[0m\u001b[0;34m(\u001b[0m\u001b[0;34m'decoder.pt'\u001b[0m\u001b[0;34m,\u001b[0m \u001b[0mmap_location\u001b[0m \u001b[0;34m=\u001b[0m \u001b[0;34m'cpu'\u001b[0m\u001b[0;34m)\u001b[0m\u001b[0;34m)\u001b[0m\u001b[0;34m\u001b[0m\u001b[0;34m\u001b[0m\u001b[0m\n",
      "\u001b[0;32m~/anaconda3/envs/papers/lib/python3.7/site-packages/torch/nn/modules/module.py\u001b[0m in \u001b[0;36mload_state_dict\u001b[0;34m(self, state_dict, strict)\u001b[0m\n\u001b[1;32m   1043\u001b[0m         \u001b[0;32mif\u001b[0m \u001b[0mlen\u001b[0m\u001b[0;34m(\u001b[0m\u001b[0merror_msgs\u001b[0m\u001b[0;34m)\u001b[0m \u001b[0;34m>\u001b[0m \u001b[0;36m0\u001b[0m\u001b[0;34m:\u001b[0m\u001b[0;34m\u001b[0m\u001b[0;34m\u001b[0m\u001b[0m\n\u001b[1;32m   1044\u001b[0m             raise RuntimeError('Error(s) in loading state_dict for {}:\\n\\t{}'.format(\n\u001b[0;32m-> 1045\u001b[0;31m                                self.__class__.__name__, \"\\n\\t\".join(error_msgs)))\n\u001b[0m\u001b[1;32m   1046\u001b[0m         \u001b[0;32mreturn\u001b[0m \u001b[0m_IncompatibleKeys\u001b[0m\u001b[0;34m(\u001b[0m\u001b[0mmissing_keys\u001b[0m\u001b[0;34m,\u001b[0m \u001b[0munexpected_keys\u001b[0m\u001b[0;34m)\u001b[0m\u001b[0;34m\u001b[0m\u001b[0;34m\u001b[0m\u001b[0m\n\u001b[1;32m   1047\u001b[0m \u001b[0;34m\u001b[0m\u001b[0m\n",
      "\u001b[0;31mRuntimeError\u001b[0m: Error(s) in loading state_dict for Encoder:\n\tMissing key(s) in state_dict: \"resnet.conv1.weight\", \"resnet.bn1.weight\", \"resnet.bn1.bias\", \"resnet.bn1.running_mean\", \"resnet.bn1.running_var\", \"resnet.layer1.0.conv1.weight\", \"resnet.layer1.0.bn1.weight\", \"resnet.layer1.0.bn1.bias\", \"resnet.layer1.0.bn1.running_mean\", \"resnet.layer1.0.bn1.running_var\", \"resnet.layer1.0.conv2.weight\", \"resnet.layer1.0.bn2.weight\", \"resnet.layer1.0.bn2.bias\", \"resnet.layer1.0.bn2.running_mean\", \"resnet.layer1.0.bn2.running_var\", \"resnet.layer1.1.conv1.weight\", \"resnet.layer1.1.bn1.weight\", \"resnet.layer1.1.bn1.bias\", \"resnet.layer1.1.bn1.running_mean\", \"resnet.layer1.1.bn1.running_var\", \"resnet.layer1.1.conv2.weight\", \"resnet.layer1.1.bn2.weight\", \"resnet.layer1.1.bn2.bias\", \"resnet.layer1.1.bn2.running_mean\", \"resnet.layer1.1.bn2.running_var\", \"resnet.layer2.0.conv1.weight\", \"resnet.layer2.0.bn1.weight\", \"resnet.layer2.0.bn1.bias\", \"resnet.layer2.0.bn1.running_mean\", \"resnet.layer2.0.bn1.running_var\", \"resnet.layer2.0.conv2.weight\", \"resnet.layer2.0.bn2.weight\", \"resnet.layer2.0.bn2.bias\", \"resnet.layer2.0.bn2.running_mean\", \"resnet.layer2.0.bn2.running_var\", \"resnet.layer2.0.downsample.0.weight\", \"resnet.layer2.0.downsample.1.weight\", \"resnet.layer2.0.downsample.1.bias\", \"resnet.layer2.0.downsample.1.running_mean\", \"resnet.layer2.0.downsample.1.running_var\", \"resnet.layer2.1.conv1.weight\", \"resnet.layer2.1.bn1.weight\", \"resnet.layer2.1.bn1.bias\", \"resnet.layer2.1.bn1.running_mean\", \"resnet.layer2.1.bn1.running_var\", \"resnet.layer2.1.conv2.weight\", \"resnet.layer2.1.bn2.weight\", \"resnet.layer2.1.bn2.bias\", \"resnet.layer2.1.bn2.running_mean\", \"resnet.layer2.1.bn2.running_var\", \"resnet.layer3.0.conv1.weight\", \"resnet.layer3.0.bn1.weight\", \"resnet.layer3.0.bn1.bias\", \"resnet.layer3.0.bn1.running_mean\", \"resnet.layer3.0.bn1.running_var\", \"resnet.layer3.0.conv2.weight\", \"resnet.layer3.0.bn2.weight\", \"resnet.layer3.0.bn2.bias\", \"resnet.layer3.0.bn2.running_mean\", \"resnet.layer3.0.bn2.running_var\", \"resnet.layer3.0.downsample.0.weight\", \"resnet.layer3.0.downsample.1.weight\", \"resnet.layer3.0.downsample.1.bias\", \"resnet.layer3.0.downsample.1.running_mean\", \"resnet.layer3.0.downsample.1.running_var\", \"resnet.layer3.1.conv1.weight\", \"resnet.layer3.1.bn1.weight\", \"resnet.layer3.1.bn1.bias\", \"resnet.layer3.1.bn1.running_mean\", \"resnet.layer3.1.bn1.running_var\", \"resnet.layer3.1.conv2.weight\", \"resnet.layer3.1.bn2.weight\", \"resnet.layer3.1.bn2.bias\", \"resnet.layer3.1.bn2.running_mean\", \"resnet.layer3.1.bn2.running_var\", \"resnet.layer4.0.conv1.weight\", \"resnet.layer4.0.bn1.weight\", \"resnet.layer4.0.bn1.bias\", \"resnet.layer4.0.bn1.running_mean\", \"resnet.layer4.0.bn1.running_var\", \"resnet.layer4.0.conv2.weight\", \"resnet.layer4.0.bn2.weight\", \"resnet.layer4.0.bn2.bias\", \"resnet.layer4.0.bn2.running_mean\", \"resnet.layer4.0.bn2.running_var\", \"resnet.layer4.0.downsample.0.weight\", \"resnet.layer4.0.downsample.1.weight\", \"resnet.layer4.0.downsample.1.bias\", \"resnet.layer4.0.downsample.1.running_mean\", \"resnet.layer4.0.downsample.1.running_var\", \"resnet.layer4.1.conv1.weight\", \"resnet.layer4.1.bn1.weight\", \"resnet.layer4.1.bn1.bias\", \"resnet.layer4.1.bn1.running_mean\", \"resnet.layer4.1.bn1.running_var\", \"resnet.layer4.1.conv2.weight\", \"resnet.layer4.1.bn2.weight\", \"resnet.layer4.1.bn2.bias\", \"resnet.layer4.1.bn2.running_mean\", \"resnet.layer4.1.bn2.running_var\", \"resnet.fc.weight\", \"resnet.fc.bias\". \n\tUnexpected key(s) in state_dict: \"resnet.0.weight\", \"resnet.1.weight\", \"resnet.1.bias\", \"resnet.1.running_mean\", \"resnet.1.running_var\", \"resnet.1.num_batches_tracked\", \"resnet.4.0.conv1.weight\", \"resnet.4.0.bn1.weight\", \"resnet.4.0.bn1.bias\", \"resnet.4.0.bn1.running_mean\", \"resnet.4.0.bn1.running_var\", \"resnet.4.0.bn1.num_batches_tracked\", \"resnet.4.0.conv2.weight\", \"resnet.4.0.bn2.weight\", \"resnet.4.0.bn2.bias\", \"resnet.4.0.bn2.running_mean\", \"resnet.4.0.bn2.running_var\", \"resnet.4.0.bn2.num_batches_tracked\", \"resnet.4.0.conv3.weight\", \"resnet.4.0.bn3.weight\", \"resnet.4.0.bn3.bias\", \"resnet.4.0.bn3.running_mean\", \"resnet.4.0.bn3.running_var\", \"resnet.4.0.bn3.num_batches_tracked\", \"resnet.4.0.downsample.0.weight\", \"resnet.4.0.downsample.1.weight\", \"resnet.4.0.downsample.1.bias\", \"resnet.4.0.downsample.1.running_mean\", \"resnet.4.0.downsample.1.running_var\", \"resnet.4.0.downsample.1.num_batches_tracked\", \"resnet.4.1.conv1.weight\", \"resnet.4.1.bn1.weight\", \"resnet.4.1.bn1.bias\", \"resnet.4.1.bn1.running_mean\", \"resnet.4.1.bn1.running_var\", \"resnet.4.1.bn1.num_batches_tracked\", \"resnet.4.1.conv2.weight\", \"resnet.4.1.bn2.weight\", \"resnet.4.1.bn2.bias\", \"resnet.4.1.bn2.running_mean\", \"resnet.4.1.bn2.running_var\", \"resnet.4.1.bn2.num_batches_tracked\", \"resnet.4.1.conv3.weight\", \"resnet.4.1.bn3.weight\", \"resnet.4.1.bn3.bias\", \"resnet.4.1.bn3.running_mean\", \"resnet.4.1.bn3.running_var\", \"resnet.4.1.bn3.num_batches_tracked\", \"resnet.4.2.conv1.weight\", \"resnet.4.2.bn1.weight\", \"resnet.4.2.bn1.bias\", \"resnet.4.2.bn1.running_mean\", \"resnet.4.2.bn1.running_var\", \"resnet.4.2.bn1.num_batches_tracked\", \"resnet.4.2.conv2.weight\", \"resnet.4.2.bn2.weight\", \"resnet.4.2.bn2.bias\", \"resnet.4.2.bn2.running_mean\", \"resnet.4.2.bn2.running_var\", \"resnet.4.2.bn2.num_batches_tracked\", \"resnet.4.2.conv3.weight\", \"resnet.4.2.bn3.weight\", \"resnet.4.2.bn3.bias\", \"resnet.4.2.bn3.running_mean\", \"resnet.4.2.bn3.running_var\", \"resnet.4.2.bn3.num_batches_tracked\", \"resnet.5.0.conv1.weight\", \"resnet.5.0.bn1.weight\", \"resnet.5.0.bn1.bias\", \"resnet.5.0.bn1.running_mean\", \"resnet.5.0.bn1.running_var\", \"resnet.5.0.bn1.num_batches_tracked\", \"resnet.5.0.conv2.weight\", \"resnet.5.0.bn2.weight\", \"resnet.5.0.bn2.bias\", \"resnet.5.0.bn2.running_mean\", \"resnet.5.0.bn2.running_var\", \"resnet.5.0.bn2.num_batches_tracked\", \"resnet.5.0.conv3.weight\", \"resnet.5.0.bn3.weight\", \"resnet.5.0.bn3.bias\", \"resnet.5.0.bn3.running_mean\", \"resnet.5.0.bn3.running_var\", \"resnet.5.0.bn3.num_batches_tracked\", \"resnet.5.0.downsample.0.weight\", \"resnet.5.0.downsample.1.weight\", \"resnet.5.0.downsample.1.bias\", \"resnet.5.0.downsample.1.running_mean\", \"resnet.5.0.downsample.1.running_var\", \"resnet.5.0.downsample.1.num_batches_tracked\", \"resnet.5.1.conv1.weight\", \"resnet.5.1.bn1.weight\", \"resnet.5.1.bn1.bias\", \"resnet.5.1.bn1.running_mean\", \"resnet.5.1.bn1.running_var\", \"resnet.5.1.bn1.num_batches_tracked\", \"resnet.5.1.conv2.weight\", \"resnet.5.1.bn2.weight\", \"resnet.5.1.bn2.bias\", \"resnet.5.1.bn2.running_mean\", \"resnet.5.1.bn2.running_var\", \"resnet.5.1.bn2.num_batches_tracked\", \"resnet.5.1.conv3.weight\", \"resnet.5.1.bn3.weight\", \"resnet.5.1.bn3.bias\", \"resnet.5.1.bn3.running_mean\", \"resnet.5.1.bn3.running_var\", \"resnet.5.1.bn3.num_batches_tracked\", \"resnet.5.2.conv1.weight\", \"resnet.5.2.bn1.weight\", \"resnet.5.2.bn1.bias\", \"resnet.5.2.bn1.running_mean\", \"resnet.5.2.bn1.running_var\", \"resnet.5.2.bn1.num_batches_tracked\", \"resnet.5.2.conv2.weight\", \"resnet.5.2.bn2.weight\", \"resnet.5.2.bn2.bias\", \"resnet.5.2.bn2.running_mean\", \"resnet.5.2.bn2.running_var\", \"resnet.5.2.bn2.num_batches_tracked\", \"resnet.5.2.conv3.weight\", \"resnet.5.2.bn3.weight\", \"resnet.5.2.bn3.bias\", \"resnet.5.2.bn3.running_mean\", \"resnet.5.2.bn3.running_var\", \"resnet.5.2.bn3.num_batches_tracked\", \"resnet.5.3.conv1.weight\", \"resnet.5.3.bn1.weight\", \"resnet.5.3.bn1.bias\", \"resnet.5.3.bn1.running_mean\", \"resnet.5.3.bn1.running_var\", \"resnet.5.3.bn1.num_batches_tracked\", \"resnet.5.3.conv2.weight\", \"resnet.5.3.bn2.weight\", \"resnet.5.3.bn2.bias\", \"resnet.5.3.bn2.running_mean\", \"resnet.5.3.bn2.running_var\", \"resnet.5.3.bn2.num_batches_tracked\", \"resnet.5.3.conv3.weight\", \"resnet.5.3.bn3.weight\", \"resnet.5.3.bn3.bias\", \"resnet.5.3.bn3.running_mean\", \"resnet.5.3.bn3.running_var\", \"resnet.5.3.bn3.num_batches_tracked\", \"resnet.6.0.conv1.weight\", \"resnet.6.0.bn1.weight\", \"resnet.6.0.bn1.bias\", \"resnet.6.0.bn1.running_mean\", \"resnet.6.0.bn1.running_var\", \"resnet.6.0.bn1.num_batches_tracked\", \"resnet.6.0.conv2.weight\", \"resnet.6.0.bn2.weight\", \"resnet.6.0.bn2.bias\", \"resnet.6.0.bn2.running_mean\", \"resnet.6.0.bn2.running_var\", \"resnet.6.0.bn2.num_batches_tracked\", \"resnet.6.0.conv3.weight\", \"resnet.6.0.bn3.weight\", \"resnet.6.0.bn3.bias\", \"resnet.6.0.bn3.running_mean\", \"resnet.6.0.bn3.running_var\", \"resnet.6.0.bn3.num_batches_tracked\", \"resnet.6.0.downsample.0.weight\", \"resnet.6.0.downsample.1.weight\", \"resnet.6.0.downsample.1.bias\", \"resnet.6.0.downsample.1.running_mean\", \"resnet.6.0.downsample.1.running_var\", \"resnet.6.0.downsample.1.num_batches_tracked\", \"resnet.6.1.conv1.weight\", \"resnet.6.1.bn1.weight\", \"resnet.6.1.bn1.bias\", \"resnet.6.1.bn1.running_mean\", \"resnet.6.1.bn1.running_var\", \"resnet.6.1.bn1.num_batches_tracked\", \"resnet.6.1.conv2.weight\", \"resnet.6.1.bn2.weight\", \"resnet.6.1.bn2.bias\", \"resnet.6.1.bn2.running_mean\", \"resnet.6.1.bn2.running_var\", \"resnet.6.1.bn2.num_batches_tracked\", \"resnet.6.1.conv3.weight\", \"resnet.6.1.bn3.weight\", \"resnet.6.1.bn3.bias\", \"resnet.6.1.bn3.running_mean\", \"resnet.6.1.bn3.running_var\", \"resnet.6.1.bn3.num_batches_tracked\", \"resnet.6.2.conv1.weight\", \"resnet.6.2.bn1.weight\", \"resnet.6.2.bn1.bias\", \"resnet.6.2.bn1.running_mean\", \"resnet.6.2.bn1.running_var\", \"resnet.6.2.bn1.num_batches_tracked\", \"resnet.6.2.conv2.weight\", \"resnet.6.2.bn2.weight\", \"resnet.6.2.bn2.bias\", \"resnet.6.2.bn2.running_mean\", \"resnet.6.2.bn2.running_var\", \"resnet.6.2.bn2.num_batches_tracked\", \"resnet.6.2.conv3.weight\", \"resnet.6.2.bn3.weight\", \"resnet.6.2.bn3.bias\", \"resnet.6.2.bn3.running_mean\", \"resnet.6.2.bn3.running_var\", \"resnet.6.2.bn3.num_batches_tracked\", \"resnet.6.3.conv1.weight\", \"resnet.6.3.bn1.weight\", \"resnet.6.3.bn1.bias\", \"resnet.6.3.bn1.running_mean\", \"resnet.6.3.bn1.running_var\", \"resnet.6.3.bn1.num_batches_tracked\", \"resnet.6.3.conv2.weight\", \"resnet.6.3.bn2.weight\", \"resnet.6.3.bn2.bias\", \"resnet.6.3.bn2.running_mean\", \"resnet.6.3.bn2.running_var\", \"resnet.6.3.bn2.num_batches_tracked\", \"resnet.6.3.conv3.weight\", \"resnet.6.3.bn3.weight\", \"resnet.6.3.bn3.bias\", \"resnet.6.3.bn3.running_mean\", \"resnet.6.3.bn3.running_var\", \"resnet.6.3.bn3.num_batches_tracked\", \"resnet.6.4.conv1.weight\", \"resnet.6.4.bn1.weight\", \"resnet.6.4.bn1.bias\", \"resnet.6.4.bn1.running_mean\", \"resnet.6.4.bn1.running_var\", \"resnet.6.4.bn1.num_batches_tracked\", \"resnet.6.4.conv2.weight\", \"resnet.6.4.bn2.weight\", \"resnet.6.4.bn2.bias\", \"resnet.6.4.bn2.running_mean\", \"resnet.6.4.bn2.running_var\", \"resnet.6.4.bn2.num_batches_tracked\", \"resnet.6.4.conv3.weight\", \"resnet.6.4.bn3.weight\", \"resnet.6.4.bn3.bias\", \"resnet.6.4.bn3.running_mean\", \"resnet.6.4.bn3.running_var\", \"resnet.6.4.bn3.num_batches_tracked\", \"resnet.6.5.conv1.weight\", \"resnet.6.5.bn1.weight\", \"resnet.6.5.bn1.bias\", \"resnet.6.5.bn1.running_mean\", \"resnet.6.5.bn1.running_var\", \"resnet.6.5.bn1.num_batches_tracked\", \"resnet.6.5.conv2.weight\", \"resnet.6.5.bn2.weight\", \"resnet.6.5.bn2.bias\", \"resnet.6.5.bn2.running_mean\", \"resnet.6.5.bn2.running_var\", \"resnet.6.5.bn2.num_batches_tracked\", \"resnet.6.5.conv3.weight\", \"resnet.6.5.bn3.weight\", \"resnet.6.5.bn3.bias\", \"resnet.6.5.bn3.running_mean\", \"resnet.6.5.bn3.running_var\", \"resnet.6.5.bn3.num_batches_tracked\", \"resnet.6.6.conv1.weight\", \"resnet.6.6.bn1.weight\", \"resnet.6.6.bn1.bias\", \"resnet.6.6.bn1.running_mean\", \"resnet.6.6.bn1.running_var\", \"resnet.6.6.bn1.num_batches_tracked\", \"resnet.6.6.conv2.weight\", \"resnet.6.6.bn2.weight\", \"resnet.6.6.bn2.bias\", \"resnet.6.6.bn2.running_mean\", \"resnet.6.6.bn2.running_var\", \"resnet.6.6.bn2.num_batches_tracked\", \"resnet.6.6.conv3.weight\", \"resnet.6.6.bn3.weight\", \"resnet.6.6.bn3.bias\", \"resnet.6.6.bn3.running_mean\", \"resnet.6.6.bn3.running_var\", \"resnet.6.6.bn3.num_batches_tracked\", \"resnet.6.7.conv1.weight\", \"resnet.6.7.bn1.weight\", \"resnet.6.7.bn1.bias\", \"resnet.6.7.bn1.running_mean\", \"resnet.6.7.bn1.running_var\", \"resnet.6.7.bn1.num_batches_tracked\", \"resnet.6.7.conv2.weight\", \"resnet.6.7.bn2.weight\", \"resnet.6.7.bn2.bias\", \"resnet.6.7.bn2.running_mean\", \"resnet.6.7.bn2.running_var\", \"resnet.6.7.bn2.num_batches_tracked\", \"resnet.6.7.conv3.weight\", \"resnet.6.7.bn3.weight\", \"resnet.6.7.bn3.bias\", \"resnet.6.7.bn3.running_mean\", \"resnet.6.7.bn3.running_var\", \"resnet.6.7.bn3.num_batches_tracked\", \"resnet.6.8.conv1.weight\", \"resnet.6.8.bn1.weight\", \"resnet.6.8.bn1.bias\", \"resnet.6.8.bn1.running_mean\", \"resnet.6.8.bn1.running_var\", \"resnet.6.8.bn1.num_batches_tracked\", \"resnet.6.8.conv2.weight\", \"resnet.6.8.bn2.weight\", \"resnet.6.8.bn2.bias\", \"resnet.6.8.bn2.running_mean\", \"resnet.6.8.bn2.running_var\", \"resnet.6.8.bn2.num_batches_tracked\", \"resnet.6.8.conv3.weight\", \"resnet.6.8.bn3.weight\", \"resnet.6.8.bn3.bias\", \"resnet.6.8.bn3.running_mean\", \"resnet.6.8.bn3.running_var\", \"resnet.6.8.bn3.num_batches_tracked\", \"resnet.6.9.conv1.weight\", \"resnet.6.9.bn1.weight\", \"resnet.6.9.bn1.bias\", \"resnet.6.9.bn1.running_mean\", \"resnet.6.9.bn1.running_var\", \"resnet.6.9.bn1.num_batches_tracked\", \"resnet.6.9.conv2.weight\", \"resnet.6.9.bn2.weight\", \"resnet.6.9.bn2.bias\", \"resnet.6.9.bn2.running_mean\", \"resnet.6.9.bn2.running_var\", \"resnet.6.9.bn2.num_batches_tracked\", \"resnet.6.9.conv3.weight\", \"resnet.6.9.bn3.weight\", \"resnet.6.9.bn3.bias\", \"resnet.6.9.bn3.running_mean\", \"resnet.6.9.bn3.running_var\", \"resnet.6.9.bn3.num_batches_tracked\", \"resnet.6.10.conv1.weight\", \"resnet.6.10.bn1.weight\", \"resnet.6.10.bn1.bias\", \"resnet.6.10.bn1.running_mean\", \"resnet.6.10.bn1.running_var\", \"resnet.6.10.bn1.num_batches_tracked\", \"resnet.6.10.conv2.weight\", \"resnet.6.10.bn2.weight\", \"resnet.6.10.bn2.bias\", \"resnet.6.10.bn2.running_mean\", \"resnet.6.10.bn2.running_var\", \"resnet.6.10.bn2.num_batches_tracked\", \"resnet.6.10.conv3.weight\", \"resnet.6.10.bn3.weight\", \"resnet.6.10.bn3.bias\", \"resnet.6.10.bn3.running_mean\", \"resnet.6.10.bn3.running_var\", \"resnet.6.10.bn3.num_batches_tracked\", \"resnet.6.11.conv1.weight\", \"resnet.6.11.bn1.weight\", \"resnet.6.11.bn1.bias\", \"resnet.6.11.bn1.running_mean\", \"resnet.6.11.bn1.running_var\", \"resnet.6.11.bn1.num_batches_tracked\", \"resnet.6.11.conv2.weight\", \"resnet.6.11.bn2.weight\", \"resnet.6.11.bn2.bias\", \"resnet.6.11.bn2.running_mean\", \"resnet.6.11.bn2.running_var\", \"resnet.6.11.bn2.num_batches_tracked\", \"resnet.6.11.conv3.weight\", \"resnet.6.11.bn3.weight\", \"resnet.6.11.bn3.bias\", \"resnet.6.11.bn3.running_mean\", \"resnet.6.11.bn3.running_var\", \"resnet.6.11.bn3.num_batches_tracked\", \"resnet.6.12.conv1.weight\", \"resnet.6.12.bn1.weight\", \"resnet.6.12.bn1.bias\", \"resnet.6.12.bn1.running_mean\", \"resnet.6.12.bn1.running_var\", \"resnet.6.12.bn1.num_batches_tracked\", \"resnet.6.12.conv2.weight\", \"resnet.6.12.bn2.weight\", \"resnet.6.12.bn2.bias\", \"resnet.6.12.bn2.running_mean\", \"resnet.6.12.bn2.running_var\", \"resnet.6.12.bn2.num_batches_tracked\", \"resnet.6.12.conv3.weight\", \"resnet.6.12.bn3.weight\", \"resnet.6.12.bn3.bias\", \"resnet.6.12.bn3.running_mean\", \"resnet.6.12.bn3.running_var\", \"resnet.6.12.bn3.num_batches_tracked\", \"resnet.6.13.conv1.weight\", \"resnet.6.13.bn1.weight\", \"resnet.6.13.bn1.bias\", \"resnet.6.13.bn1.running_mean\", \"resnet.6.13.bn1.running_var\", \"resnet.6.13.bn1.num_batches_tracked\", \"resnet.6.13.conv2.weight\", \"resnet.6.13.bn2.weight\", \"resnet.6.13.bn2.bias\", \"resnet.6.13.bn2.running_mean\", \"resnet.6.13.bn2.running_var\", \"resnet.6.13.bn2.num_batches_tracked\", \"resnet.6.13.conv3.weight\", \"resnet.6.13.bn3.weight\", \"resnet.6.13.bn3.bias\", \"resnet.6.13.bn3.running_mean\", \"resnet.6.13.bn3.running_var\", \"resnet.6.13.bn3.num_batches_tracked\", \"resnet.6.14.conv1.weight\", \"resnet.6.14.bn1.weight\", \"resnet.6.14.bn1.bias\", \"resnet.6.14.bn1.running_mean\", \"resnet.6.14.bn1.running_var\", \"resnet.6.14.bn1.num_batches_tracked\", \"resnet.6.14.conv2.weight\", \"resnet.6.14.bn2.weight\", \"resnet.6.14.bn2.bias\", \"resnet.6.14.bn2.running_mean\", \"resnet.6.14.bn2.running_var\", \"resnet.6.14.bn2.num_batches_tracked\", \"resnet.6.14.conv3.weight\", \"resnet.6.14.bn3.weight\", \"resnet.6.14.bn3.bias\", \"resnet.6.14.bn3.running_mean\", \"resnet.6.14.bn3.running_var\", \"resnet.6.14.bn3.num_batches_tracked\", \"resnet.6.15.conv1.weight\", \"resnet.6.15.bn1.weight\", \"resnet.6.15.bn1.bias\", \"resnet.6.15.bn1.running_mean\", \"resnet.6.15.bn1.running_var\", \"resnet.6.15.bn1.num_batches_tracked\", \"resnet.6.15.conv2.weight\", \"resnet.6.15.bn2.weight\", \"resnet.6.15.bn2.bias\", \"resnet.6.15.bn2.running_mean\", \"resnet.6.15.bn2.running_var\", \"resnet.6.15.bn2.num_batches_tracked\", \"resnet.6.15.conv3.weight\", \"resnet.6.15.bn3.weight\", \"resnet.6.15.bn3.bias\", \"resnet.6.15.bn3.running_mean\", \"resnet.6.15.bn3.running_var\", \"resnet.6.15.bn3.num_batches_tracked\", \"resnet.6.16.conv1.weight\", \"resnet.6.16.bn1.weight\", \"resnet.6.16.bn1.bias\", \"resnet.6.16.bn1.running_mean\", \"resnet.6.16.bn1.running_var\", \"resnet.6.16.bn1.num_batches_tracked\", \"resnet.6.16.conv2.weight\", \"resnet.6.16.bn2.weight\", \"resnet.6.16.bn2.bias\", \"resnet.6.16.bn2.running_mean\", \"resnet.6.16.bn2.running_var\", \"resnet.6.16.bn2.num_batches_tracked\", \"resnet.6.16.conv3.weight\", \"resnet.6.16.bn3.weight\", \"resnet.6.16.bn3.bias\", \"resnet.6.16.bn3.running_mean\", \"resnet.6.16.bn3.running_var\", \"resnet.6.16.bn3.num_batches_tracked\", \"resnet.6.17.conv1.weight\", \"resnet.6.17.bn1.weight\", \"resnet.6.17.bn1.bias\", \"resnet.6.17.bn1.running_mean\", \"resnet.6.17.bn1.running_var\", \"resnet.6.17.bn1.num_batches_tracked\", \"resnet.6.17.conv2.weight\", \"resnet.6.17.bn2.weight\", \"resnet.6.17.bn2.bias\", \"resnet.6.17.bn2.running_mean\", \"resnet.6.17.bn2.running_var\", \"resnet.6.17.bn2.num_batches_tracked\", \"resnet.6.17.conv3.weight\", \"resnet.6.17.bn3.weight\", \"resnet.6.17.bn3.bias\", \"resnet.6.17.bn3.running_mean\", \"resnet.6.17.bn3.running_var\", \"resnet.6.17.bn3.num_batches_tracked\", \"resnet.6.18.conv1.weight\", \"resnet.6.18.bn1.weight\", \"resnet.6.18.bn1.bias\", \"resnet.6.18.bn1.running_mean\", \"resnet.6.18.bn1.running_var\", \"resnet.6.18.bn1.num_batches_tracked\", \"resnet.6.18.conv2.weight\", \"resnet.6.18.bn2.weight\", \"resnet.6.18.bn2.bias\", \"resnet.6.18.bn2.running_mean\", \"resnet.6.18.bn2.running_var\", \"resnet.6.18.bn2.num_batches_tracked\", \"resnet.6.18.conv3.weight\", \"resnet.6.18.bn3.weight\", \"resnet.6.18.bn3.bias\", \"resnet.6.18.bn3.running_mean\", \"resnet.6.18.bn3.running_var\", \"resnet.6.18.bn3.num_batches_tracked\", \"resnet.6.19.conv1.weight\", \"resnet.6.19.bn1.weight\", \"resnet.6.19.bn1.bias\", \"resnet.6.19.bn1.running_mean\", \"resnet.6.19.bn1.running_var\", \"resnet.6.19.bn1.num_batches_tracked\", \"resnet.6.19.conv2.weight\", \"resnet.6.19.bn2.weight\", \"resnet.6.19.bn2.bias\", \"resnet.6.19.bn2.running_mean\", \"resnet.6.19.bn2.running_var\", \"resnet.6.19.bn2.num_batches_tracked\", \"resnet.6.19.conv3.weight\", \"resnet.6.19.bn3.weight\", \"resnet.6.19.bn3.bias\", \"resnet.6.19.bn3.running_mean\", \"resnet.6.19.bn3.running_var\", \"resnet.6.19.bn3.num_batches_tracked\", \"resnet.6.20.conv1.weight\", \"resnet.6.20.bn1.weight\", \"resnet.6.20.bn1.bias\", \"resnet.6.20.bn1.running_mean\", \"resnet.6.20.bn1.running_var\", \"resnet.6.20.bn1.num_batches_tracked\", \"resnet.6.20.conv2.weight\", \"resnet.6.20.bn2.weight\", \"resnet.6.20.bn2.bias\", \"resnet.6.20.bn2.running_mean\", \"resnet.6.20.bn2.running_var\", \"resnet.6.20.bn2.num_batches_tracked\", \"resnet.6.20.conv3.weight\", \"resnet.6.20.bn3.weight\", \"resnet.6.20.bn3.bias\", \"resnet.6.20.bn3.running_mean\", \"resnet.6.20.bn3.running_var\", \"resnet.6.20.bn3.num_batches_tracked\", \"resnet.6.21.conv1.weight\", \"resnet.6.21.bn1.weight\", \"resnet.6.21.bn1.bias\", \"resnet.6.21.bn1.running_mean\", \"resnet.6.21.bn1.running_var\", \"resnet.6.21.bn1.num_batches_tracked\", \"resnet.6.21.conv2.weight\", \"resnet.6.21.bn2.weight\", \"resnet.6.21.bn2.bias\", \"resnet.6.21.bn2.running_mean\", \"resnet.6.21.bn2.running_var\", \"resnet.6.21.bn2.num_batches_tracked\", \"resnet.6.21.conv3.weight\", \"resnet.6.21.bn3.weight\", \"resnet.6.21.bn3.bias\", \"resnet.6.21.bn3.running_mean\", \"resnet.6.21.bn3.running_var\", \"resnet.6.21.bn3.num_batches_tracked\", \"resnet.6.22.conv1.weight\", \"resnet.6.22.bn1.weight\", \"resnet.6.22.bn1.bias\", \"resnet.6.22.bn1.running_mean\", \"resnet.6.22.bn1.running_var\", \"resnet.6.22.bn1.num_batches_tracked\", \"resnet.6.22.conv2.weight\", \"resnet.6.22.bn2.weight\", \"resnet.6.22.bn2.bias\", \"resnet.6.22.bn2.running_mean\", \"resnet.6.22.bn2.running_var\", \"resnet.6.22.bn2.num_batches_tracked\", \"resnet.6.22.conv3.weight\", \"resnet.6.22.bn3.weight\", \"resnet.6.22.bn3.bias\", \"resnet.6.22.bn3.running_mean\", \"resnet.6.22.bn3.running_var\", \"resnet.6.22.bn3.num_batches_tracked\", \"resnet.7.0.conv1.weight\", \"resnet.7.0.bn1.weight\", \"resnet.7.0.bn1.bias\", \"resnet.7.0.bn1.running_mean\", \"resnet.7.0.bn1.running_var\", \"resnet.7.0.bn1.num_batches_tracked\", \"resnet.7.0.conv2.weight\", \"resnet.7.0.bn2.weight\", \"resnet.7.0.bn2.bias\", \"resnet.7.0.bn2.running_mean\", \"resnet.7.0.bn2.running_var\", \"resnet.7.0.bn2.num_batches_tracked\", \"resnet.7.0.conv3.weight\", \"resnet.7.0.bn3.weight\", \"resnet.7.0.bn3.bias\", \"resnet.7.0.bn3.running_mean\", \"resnet.7.0.bn3.running_var\", \"resnet.7.0.bn3.num_batches_tracked\", \"resnet.7.0.downsample.0.weight\", \"resnet.7.0.downsample.1.weight\", \"resnet.7.0.downsample.1.bias\", \"resnet.7.0.downsample.1.running_mean\", \"resnet.7.0.downsample.1.running_var\", \"resnet.7.0.downsample.1.num_batches_tracked\", \"resnet.7.1.conv1.weight\", \"resnet.7.1.bn1.weight\", \"resnet.7.1.bn1.bias\", \"resnet.7.1.bn1.running_mean\", \"resnet.7.1.bn1.running_var\", \"resnet.7.1.bn1.num_batches_tracked\", \"resnet.7.1.conv2.weight\", \"resnet.7.1.bn2.weight\", \"resnet.7.1.bn2.bias\", \"resnet.7.1.bn2.running_mean\", \"resnet.7.1.bn2.running_var\", \"resnet.7.1.bn2.num_batches_tracked\", \"resnet.7.1.conv3.weight\", \"resnet.7.1.bn3.weight\", \"resnet.7.1.bn3.bias\", \"resnet.7.1.bn3.running_mean\", \"resnet.7.1.bn3.running_var\", \"resnet.7.1.bn3.num_batches_tracked\", \"resnet.7.2.conv1.weight\", \"resnet.7.2.bn1.weight\", \"resnet.7.2.bn1.bias\", \"resnet.7.2.bn1.running_mean\", \"resnet.7.2.bn1.running_var\", \"resnet.7.2.bn1.num_batches_tracked\", \"resnet.7.2.conv2.weight\", \"resnet.7.2.bn2.weight\", \"resnet.7.2.bn2.bias\", \"resnet.7.2.bn2.running_mean\", \"resnet.7.2.bn2.running_var\", \"resnet.7.2.bn2.num_batches_tracked\", \"resnet.7.2.conv3.weight\", \"resnet.7.2.bn3.weight\", \"resnet.7.2.bn3.bias\", \"resnet.7.2.bn3.running_mean\", \"resnet.7.2.bn3.running_var\", \"resnet.7.2.bn3.num_batches_tracked\". "
     ]
    }
   ],
   "source": [
    "encoder.load_state_dict(torch.load('encoder.pt', map_location='cpu'))\n",
    "decoder.load_state_dict(torch.load('decoder.pt', map_location = 'cpu'))"
   ]
  },
  {
   "cell_type": "code",
   "execution_count": 9,
   "metadata": {},
   "outputs": [
    {
     "data": {
      "text/plain": [
       "Decoder(\n",
       "  (drop): Dropout(p=0.5, inplace=False)\n",
       "  (embed): Embedding(4528, 200)\n",
       "  (LSTM): LSTM(200, 256)\n",
       "  (decode): Linear(in_features=256, out_features=4528, bias=True)\n",
       ")"
      ]
     },
     "execution_count": 9,
     "metadata": {},
     "output_type": "execute_result"
    }
   ],
   "source": [
    "encoder.eval()\n",
    "decoder.eval()"
   ]
  },
  {
   "cell_type": "code",
   "execution_count": 10,
   "metadata": {},
   "outputs": [],
   "source": [
    "def load_img(path):\n",
    "    transform = transforms.ToTensor()\n",
    "    normalize = transforms.Normalize([0.485, 0.456, 0.406], [0.229, 0.224, 0.225])\n",
    "\n",
    "    img = Image.open(os.path.join('data/Flickr8k_Dataset', path))\n",
    "    img = img.resize((224, 224))\n",
    "    img = transform(img)\n",
    "    img = normalize(img)\n",
    "    img.unsqueeze_(0)\n",
    "    \n",
    "    return img"
   ]
  },
  {
   "cell_type": "code",
   "execution_count": 13,
   "metadata": {},
   "outputs": [],
   "source": [
    "def generate():\n",
    "    encoder.eval()\n",
    "    decoder.eval()\n",
    "    \n",
    "    out_sen = []\n",
    "    img = load_img('44129946_9eeb385d77.jpg')\n",
    "    hidden = decoder.init_hidden(1)\n",
    "    \n",
    "    img_features = encoder(img)\n",
    "    img_features.unsqueeze_(0)\n",
    "    input = torch.empty((1,1), dtype = torch.long).to(device)\n",
    "    \n",
    "    with torch.no_grad():\n",
    "        for t in range(15):\n",
    "            if t==0:\n",
    "                out, hidden = decoder(img_features, hidden, t)\n",
    "            else:\n",
    "                out, hidden = decoder(input, hidden, t)\n",
    "            word_weights = out.squeeze().div(3.0).exp().cpu()\n",
    "            word_idx = torch.multinomial(word_weights, 1)[0]\n",
    "            \n",
    "            input.fill_(word_idx)\n",
    "            \n",
    "            word = corpus.dictionary.idx2word[word_idx]\n",
    "            out_sen.append(word)\n",
    "            \n",
    "            if word == '<eos>':\n",
    "                break\n",
    "            \n",
    "    print(out_sen)\n",
    "    "
   ]
  },
  {
   "cell_type": "code",
   "execution_count": 14,
   "metadata": {},
   "outputs": [
    {
     "name": "stdout",
     "output_type": "stream",
     "text": [
      "['fire', 'pulling', 'spectators', 'cyclist', 'hello', 'takes', 'older', 'down', 'campfire', 'stick', 'swarmed', 'barrier', 'face', 'paddles', 'stands']\n"
     ]
    }
   ],
   "source": [
    "generate()"
   ]
  },
  {
   "cell_type": "code",
   "execution_count": null,
   "metadata": {},
   "outputs": [],
   "source": []
  }
 ],
 "metadata": {
  "kernelspec": {
   "display_name": "Python 3",
   "language": "python",
   "name": "python3"
  },
  "language_info": {
   "codemirror_mode": {
    "name": "ipython",
    "version": 3
   },
   "file_extension": ".py",
   "mimetype": "text/x-python",
   "name": "python",
   "nbconvert_exporter": "python",
   "pygments_lexer": "ipython3",
   "version": "3.7.7"
  }
 },
 "nbformat": 4,
 "nbformat_minor": 4
}
